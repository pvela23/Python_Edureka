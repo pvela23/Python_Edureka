{
 "cells": [
  {
   "cell_type": "code",
   "execution_count": 4,
   "id": "0ea1c87d",
   "metadata": {},
   "outputs": [],
   "source": [
    "import matplotlib.pyplot as plt\n",
    "import pandas as pd\n",
    "import seaborn as sns\n",
    "import numpy as np\n",
    "bookings = pd.read_csv('/Users/vels/Desktop/MyPy/00_Assignment/Datasets/Bookings.csv')\n",
    "sessions = pd.read_csv('/Users/vels/Desktop/MyPy/00_Assignment/Datasets/Sessions.csv')"
   ]
  },
  {
   "cell_type": "code",
   "execution_count": 10,
   "id": "bc382fe1",
   "metadata": {},
   "outputs": [
    {
     "name": "stdout",
     "output_type": "stream",
     "text": [
      "<class 'pandas.core.frame.DataFrame'>\n",
      "RangeIndex: 339 entries, 0 to 338\n",
      "Data columns (total 13 columns):\n",
      " #   Column             Non-Null Count  Dtype  \n",
      "---  ------             --------------  -----  \n",
      " 0   customer_id        339 non-null    object \n",
      " 1   booking_id         339 non-null    object \n",
      " 2   from_city          339 non-null    object \n",
      " 3   from_country       339 non-null    object \n",
      " 4   to_city            339 non-null    object \n",
      " 5   to_country         339 non-null    object \n",
      " 6   booking_time       339 non-null    object \n",
      " 7   device_type_used   339 non-null    object \n",
      " 8   INR_Amount         339 non-null    float64\n",
      " 9   service_name       339 non-null    object \n",
      " 10  no_of_passengers   339 non-null    float64\n",
      " 11  days_to_departure  339 non-null    float64\n",
      " 12  distance_km        339 non-null    float64\n",
      "dtypes: float64(4), object(9)\n",
      "memory usage: 34.6+ KB\n"
     ]
    }
   ],
   "source": [
    "### 1. Find the number of distinct bookings, sessions, and searches from the given datasets.\n",
    "\n",
    "bookings.head()\n",
    "bookings.info()"
   ]
  },
  {
   "cell_type": "code",
   "execution_count": 47,
   "id": "28f6cc39",
   "metadata": {},
   "outputs": [
    {
     "name": "stdout",
     "output_type": "stream",
     "text": [
      "                              to_country\n",
      "from_city  to_city                      \n",
      "Gurgaon    Ahmedabad                   2\n",
      "Delhi      Brussels                    3\n",
      "Devanhalli Frankfurt am Main          12\n",
      "Gurgaon    Frankfurt am Main          16\n",
      "           Roissy-en-France           12\n"
     ]
    }
   ],
   "source": [
    "ex1 = bookings.drop(['customer_id','booking_id','booking_time','device_type_used','INR_Amount','service_name', \\\n",
    "                    'no_of_passengers', 'days_to_departure','distance_km','from_country'],axis=1)\n",
    "#    index=['from_city','from_country','to_city','to_country'],\n",
    "\n",
    "pivot = pd.pivot_table(\n",
    "    data=ex1,\n",
    "    index=['from_city','to_city'],\n",
    "#    columns=['to_city'],\n",
    "    values='to_country',\n",
    "    aggfunc='count',\n",
    "    margins=True,\n",
    "    margins_name='Total',\n",
    "    sort=False)\n",
    "print(pivot.head())"
   ]
  }
 ],
 "metadata": {
  "kernelspec": {
   "display_name": "Python 3 (ipykernel)",
   "language": "python",
   "name": "python3"
  },
  "language_info": {
   "codemirror_mode": {
    "name": "ipython",
    "version": 3
   },
   "file_extension": ".py",
   "mimetype": "text/x-python",
   "name": "python",
   "nbconvert_exporter": "python",
   "pygments_lexer": "ipython3",
   "version": "3.9.12"
  }
 },
 "nbformat": 4,
 "nbformat_minor": 5
}
