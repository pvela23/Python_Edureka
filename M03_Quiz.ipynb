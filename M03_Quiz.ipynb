{
 "cells": [
  {
   "cell_type": "code",
   "execution_count": 1,
   "id": "32bd76e7",
   "metadata": {},
   "outputs": [
    {
     "name": "stdout",
     "output_type": "stream",
     "text": [
      "8\n"
     ]
    }
   ],
   "source": [
    "result = lambda a, b : a + b\n",
    "print(result(3, 5))"
   ]
  },
  {
   "cell_type": "code",
   "execution_count": 2,
   "id": "f219aab9",
   "metadata": {},
   "outputs": [
    {
     "name": "stdout",
     "output_type": "stream",
     "text": [
      "small\n",
      "100\n",
      "Big\n",
      "<__main__.Employee object at 0x7fa533590100>\n"
     ]
    }
   ],
   "source": [
    "class Employee:\n",
    "    domain=\"Data\"\n",
    "    def __init__(self):\n",
    "        self.empId=100\n",
    "obj1=Employee()\n",
    "obj1.domain=\"Big\"\n",
    "obj1.empId=101\n",
    "obj2=Employee()\n",
    "Employee.domain=\"small\"\n",
    "print(obj2.domain)\n",
    "print(obj2.empId)\n",
    "print(obj1.domain)\n",
    "print(obj1)"
   ]
  },
  {
   "cell_type": "code",
   "execution_count": 3,
   "id": "81917376",
   "metadata": {},
   "outputs": [
    {
     "name": "stdout",
     "output_type": "stream",
     "text": [
      "1\n",
      "2\n",
      "3\n",
      "4\n"
     ]
    }
   ],
   "source": [
    "def myGenerator():\n",
    "    yield 1\n",
    "    yield 2\n",
    "    yield 3\n",
    "    yield 4\n",
    "for i in myGenerator():\n",
    "    print(i)"
   ]
  },
  {
   "cell_type": "code",
   "execution_count": 4,
   "id": "73f7a9a8",
   "metadata": {},
   "outputs": [
    {
     "ename": "SyntaxError",
     "evalue": "name 'a' is used prior to global declaration (446294082.py, line 5)",
     "output_type": "error",
     "traceback": [
      "\u001b[0;36m  Input \u001b[0;32mIn [4]\u001b[0;36m\u001b[0m\n\u001b[0;31m    global a\u001b[0m\n\u001b[0m    ^\u001b[0m\n\u001b[0;31mSyntaxError\u001b[0m\u001b[0;31m:\u001b[0m name 'a' is used prior to global declaration\n"
     ]
    }
   ],
   "source": [
    "a=100\n",
    "def func_10():\n",
    "    a=200\n",
    "    print(a)\n",
    "    global a\n",
    "    a=300\n",
    "func_10()\n",
    "print(a)"
   ]
  },
  {
   "cell_type": "code",
   "execution_count": null,
   "id": "bee8927a",
   "metadata": {},
   "outputs": [],
   "source": [
    "from functools import reduce  \n",
    "c=range(10,20)\n",
    "result=reduce((lambda x,y:x+y),c)\n",
    "print(result)"
   ]
  },
  {
   "cell_type": "code",
   "execution_count": null,
   "id": "1cba6b0e",
   "metadata": {},
   "outputs": [],
   "source": [
    "list1=[True,10,1,0.5,'None']\n",
    "print(all(list1))\n",
    "\n",
    "list2=[0,0,None,False]\n",
    "print(any(list2))"
   ]
  },
  {
   "cell_type": "code",
   "execution_count": 6,
   "id": "2a376f99",
   "metadata": {},
   "outputs": [
    {
     "name": "stdout",
     "output_type": "stream",
     "text": [
      "hello\n",
      "hi\n"
     ]
    }
   ],
   "source": [
    "class A:\n",
    "    def __init__(self,):\n",
    "        print('hello')\n",
    "    def method(self):\n",
    "        print('hi')\n",
    "class B:\n",
    "    def __init__(self,):\n",
    "        print('python')\n",
    "    def method(self):\n",
    "        print('edureka')\n",
    "class C(A,B):\n",
    "    pass\n",
    "C().method()"
   ]
  },
  {
   "cell_type": "code",
   "execution_count": 5,
   "id": "52db47ed",
   "metadata": {},
   "outputs": [],
   "source": [
    "class Employee:\n",
    "    def __init__(self,empid,salary):\n",
    "        self.empid=empid\n",
    "        self.salary=salary\n",
    "    def print_details(self,):\n",
    "        print(self.empid)\n",
    "        print(self.salary)\n",
    "e1 = Employee(1,2000)\n",
    "e2 = Employee(2,500)"
   ]
  },
  {
   "cell_type": "code",
   "execution_count": 7,
   "id": "4db0dfbd",
   "metadata": {},
   "outputs": [
    {
     "name": "stdout",
     "output_type": "stream",
     "text": [
      "{'y': 30}\n",
      "{'y': 40, 'x': 300}\n"
     ]
    }
   ],
   "source": [
    "class A:\n",
    "    x=100\n",
    "    def __init__(self,y):\n",
    "        self.y=y\n",
    "a1=A(30)\n",
    "a2=A(40)\n",
    "A.x=200\n",
    "a2.x=300\n",
    "print(a1.__dict__)\n",
    "print(a2.__dict__)"
   ]
  }
 ],
 "metadata": {
  "kernelspec": {
   "display_name": "Python 3 (ipykernel)",
   "language": "python",
   "name": "python3"
  },
  "language_info": {
   "codemirror_mode": {
    "name": "ipython",
    "version": 3
   },
   "file_extension": ".py",
   "mimetype": "text/x-python",
   "name": "python",
   "nbconvert_exporter": "python",
   "pygments_lexer": "ipython3",
   "version": "3.9.12"
  }
 },
 "nbformat": 4,
 "nbformat_minor": 5
}
