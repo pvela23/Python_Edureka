{
 "cells": [
  {
   "cell_type": "markdown",
   "id": "e9cf982e",
   "metadata": {},
   "source": [
    "### 2022-08-13 (SAT) - WK1 - CLASS 2 - Assignment"
   ]
  },
  {
   "cell_type": "markdown",
   "id": "aa1e4db1",
   "metadata": {},
   "source": [
    "#### 1. Smith wishes to register on a ticket booking website for booking bus tickets. To authenticate the registration, he needs to provide a user-id and password. There are some built-in rules for checking the validity of the passwords entered by the users. \n",
    "\n",
    "#### Following are the rules for checking the validity of a password:\n",
    "#### i. At least 1 alphabet \n",
    "#### ii. At least 1 digit between [0–9]\n",
    "#### iii. At least 1 character from [@&]\n",
    "#### iv. Minimum length of transaction password: 5\n"
   ]
  },
  {
   "cell_type": "code",
   "execution_count": 40,
   "id": "c64cf145",
   "metadata": {},
   "outputs": [
    {
     "name": "stdout",
     "output_type": "stream",
     "text": [
      "Enter a password: abc23\n",
      "True|True|False\n",
      "Not Passed: password doenst meet the criteria\n"
     ]
    }
   ],
   "source": [
    "alphacheck = digitcheck = splcharcheck = False\n",
    "                                                  \n",
    "pwd = input(\"Enter a password: \")\n",
    "#print(pwd)\n",
    "\n",
    "pwdlen = len(pwd)\n",
    "\n",
    "for ex1a in range(0,pwdlen):\n",
    "    ex1b = pwd[ex1a]\n",
    "    if ex1b.isalpha():\n",
    "        alphacheck = True\n",
    "#        print(\"Check_01: Alphabets are there\")\n",
    "    elif ex1b.isdigit():\n",
    "        digitcheck = True\n",
    "#        print(\"Check_02: Digit is here\")\n",
    "    elif (ex1b == '@') or (ex1b == '&'):\n",
    "        splcharcheck = True\n",
    "#        print(\"Check_03: Spl Char is here\")\n",
    "        \n",
    "if (pwdlen >= 5) and (pwdlen <= 10):\n",
    "    lencheck = True\n",
    "#        print('Check_04: Length of the password')\n",
    "\n",
    "print(alphacheck, digitcheck, splcharcheck,sep=\"|\")\n",
    "\n",
    "if (alphacheck == True) and (digitcheck == True) and (splcharcheck == True) and (lencheck == True) :\n",
    "    print('Password Checked!!')\n",
    "else:\n",
    "    print('Not Passed: password doenst meet the criteria')\n",
    "        "
   ]
  },
  {
   "cell_type": "markdown",
   "id": "4dda926d",
   "metadata": {},
   "source": [
    "#### 2. Write a program for printing all elements of a list and their indexes in the list. \n",
    "#### Take the list as user input."
   ]
  },
  {
   "cell_type": "code",
   "execution_count": 62,
   "id": "f783db0b",
   "metadata": {},
   "outputs": [
    {
     "name": "stdout",
     "output_type": "stream",
     "text": [
      "Enter all elements: asdf sad asd\n",
      "!!! Printing the list and its corresponding Indexes!!! \n",
      "\n",
      "List: asdf \t Index: 0\n",
      "List: sad \t Index: 1\n",
      "List: asd \t Index: 2\n"
     ]
    }
   ],
   "source": [
    "getinput = input(\"Enter all elements: \")\n",
    "\n",
    "getinputlist = getinput.split()\n",
    "\n",
    "print(\"!!! Printing the list and its corresponding Indexes!!! \\n\")\n",
    "\n",
    "for v01 in getinputlist:\n",
    "    print(f\"List: {v01} \\t Index: {getinputlist.index(v01)}\")\n"
   ]
  },
  {
   "cell_type": "markdown",
   "id": "74754795",
   "metadata": {},
   "source": [
    "#### 3. Write a program that accepts a string from the console and prints the characters that have even indexes if the character is an alphabet. Concatenate the characters and print.\n",
    "#### Example\n",
    "#### If the following string is given as input to the program:\n",
    "#### Ed12ur3ka1Python12\n",
    "#### Then, the output of the program should be:\n",
    "#### EuaPto"
   ]
  },
  {
   "cell_type": "code",
   "execution_count": 124,
   "id": "ea62fbd7",
   "metadata": {},
   "outputs": [
    {
     "name": "stdout",
     "output_type": "stream",
     "text": [
      "Please enter text to print::Ed12ur3ka1Python12\n",
      "E 0\n",
      "d 1\n",
      "1 2\n",
      "2 3\n",
      "u 4\n",
      "r 5\n",
      "3 6\n",
      "k 7\n",
      "a 8\n",
      "1 2\n",
      "P 10\n",
      "y 11\n",
      "t 12\n",
      "h 13\n",
      "o 14\n",
      "n 15\n",
      "1 2\n",
      "2 3\n",
      "Input: Ed12ur3ka1Python12, Output: E1u3a1Pto1\n"
     ]
    }
   ],
   "source": [
    "inputchars = input((\"Please enter text to print::\"))\n",
    "\n",
    "if inputchars:\n",
    "    string = \"\"\n",
    "    for i in inputchars:\n",
    "        print(i, inputchars.index(i))\n",
    "        if inputchars.index(i)%2 == 0:\n",
    "            string += str(i)\n",
    "\n",
    "\n",
    "print(f\"Input: {inputchars}, Output: {string}\")\n"
   ]
  },
  {
   "cell_type": "markdown",
   "id": "0b80d8bd",
   "metadata": {},
   "source": [
    "#### 4. Please write a program that accepts a string from the console and prints it in reverse order.\n",
    "#### Example\n",
    "#### If the following string is given as input to the program:\n",
    "#### welcome to edureka\n",
    "#### Then, the output of the program should be: akerude ot emoclew"
   ]
  },
  {
   "cell_type": "code",
   "execution_count": 127,
   "id": "3b87abcb",
   "metadata": {},
   "outputs": [
    {
     "name": "stdout",
     "output_type": "stream",
     "text": [
      "Please enter text to print welcome to edureka\n",
      "Oringal String : \twelcome to edureka \n",
      "Reversed String: \takerude ot emoclew\n"
     ]
    }
   ],
   "source": [
    "ex4 = input((\"Please enter text to print \"))\n",
    "st = \"\"\n",
    "for q4 in ex4:\n",
    "    st =  q4 + st #String gets added to the front..\n",
    "    \n",
    "print(f\"Oringal String : \\t{ex4} \\nReversed String: \\t{st}\")"
   ]
  },
  {
   "cell_type": "markdown",
   "id": "12ccd3c8",
   "metadata": {},
   "source": [
    "#### 5. Please write a program that counts and prints the numbers of each character in a string input by the console.\n",
    "#### Example\n",
    "#### If the following string is given as input to the program:\n",
    "#### abcdefgabc\n",
    "#### Then, the output of the program should be:\n",
    "#### a,2\n",
    "#### c,2\n",
    "#### b,2\n",
    "#### e,1\n",
    "#### d,1\n",
    "#### g,1\n",
    "#### f,1"
   ]
  },
  {
   "cell_type": "code",
   "execution_count": 2,
   "id": "16f065fe",
   "metadata": {},
   "outputs": [
    {
     "name": "stdout",
     "output_type": "stream",
     "text": [
      "Enter a string: asdf asdf\n",
      "a,2\n",
      "s,2\n",
      "d,2\n",
      "f,2\n",
      " ,1\n",
      "Repeated Chars:  a\n",
      "Repeated Chars:  s\n",
      "Repeated Chars:  d\n",
      "Repeated Chars:  f\n"
     ]
    }
   ],
   "source": [
    "ex5 = input(\"Enter a string: \")\n",
    "\n",
    "tempStr = ''\n",
    "for char in ex5:\n",
    "    if char not in tempStr:\n",
    "        print(char, ex5.count(char),sep=\",\") ## count returns the number of elements with specified value\n",
    "        tempStr = char + tempStr ## Saving ex5 to tempstr char-by-char so i can avoid the dups\n",
    "    else:\n",
    "        print(\"Repeated Chars: \", char)"
   ]
  },
  {
   "cell_type": "markdown",
   "id": "79226da3",
   "metadata": {},
   "source": [
    "#### 6. With two given lists [1,5,10,12,34,13] and [4,7,8,10,5,13,24], write a program to create a new list whose elements are the intersection of the above-given lists."
   ]
  },
  {
   "cell_type": "code",
   "execution_count": 148,
   "id": "6e5ddb8e",
   "metadata": {},
   "outputs": [
    {
     "name": "stdout",
     "output_type": "stream",
     "text": [
      "[5, 10, 13]\n"
     ]
    }
   ],
   "source": [
    "# Method 1\n",
    "# Intersection\n",
    "\n",
    "list1 = [1,5,10,12,34,13]\n",
    "list2 = [4,7,8,10,5,13,24]\n",
    "\n",
    "st3 = [value for value in (list1) if value in (list2)]\n",
    "\n",
    "print(st3)\n",
    "\n"
   ]
  },
  {
   "cell_type": "code",
   "execution_count": 152,
   "id": "05ae003c",
   "metadata": {},
   "outputs": [
    {
     "name": "stdout",
     "output_type": "stream",
     "text": [
      "[5, 10, 13]\n"
     ]
    }
   ],
   "source": [
    "# Method 2\n",
    "# Intersection\n",
    "\n",
    "list1 = [1,5,10,12,34,13]\n",
    "list2 = [4,7,8,10,5,13,24]\n",
    "list3 = []\n",
    "\n",
    "for i6 in list1:\n",
    "    if i6 in list2:\n",
    "        list3.append(i6)\n",
    "\n",
    "print(list3)\n"
   ]
  },
  {
   "cell_type": "markdown",
   "id": "8a58d194",
   "metadata": {},
   "source": [
    "#### 7. By using list comprehension, please write a program to print the list after removing the values which are divisible by 6 in [12,24,35,24,88,120,155]."
   ]
  },
  {
   "cell_type": "code",
   "execution_count": 190,
   "id": "9ea84bb3",
   "metadata": {},
   "outputs": [
    {
     "name": "stdout",
     "output_type": "stream",
     "text": [
      "Input:  [12, 24, 35, 24, 88, 120, 155]\n",
      "35\n",
      "88\n",
      "155\n",
      "Output:  [35, 88, 155]\n"
     ]
    }
   ],
   "source": [
    "ex7inp = [12,24,35,24,88,120,155]\n",
    "print(\"Input: \", ex7inp)\n",
    "ex7op = []\n",
    "for i in range(0, len(ex7inp)):\n",
    "    if ex7inp[i] %6 !=0:\n",
    "        print (ex7inp[i])\n",
    "        ex7op.append(ex7inp[i])\n",
    "\n",
    "print(\"Output: \", ex7op)\n"
   ]
  },
  {
   "cell_type": "code",
   "execution_count": 189,
   "id": "cf855ef2",
   "metadata": {},
   "outputs": [
    {
     "name": "stdout",
     "output_type": "stream",
     "text": [
      "Input:  [12, 24, 35, 24, 88, 120, 155]\n",
      "Output:  [35, 88, 155]\n"
     ]
    }
   ],
   "source": [
    "ex7inp = [12,24,35,24,88,120,155]\n",
    "ex7op= [x for x in ex7inp if x%6 !=0]\n",
    "print (\"Input: \", ex7inp)  # [12, 35, 88, 120, 155]\n",
    "print (\"Output: \", ex7op)"
   ]
  },
  {
   "cell_type": "markdown",
   "id": "8a4033fe",
   "metadata": {},
   "source": [
    "#### 8. By using list comprehension, please write a program to print the list after removing the 1st,3rd, and 5th numbers in [12,24,35,70,88,120,155]."
   ]
  },
  {
   "cell_type": "code",
   "execution_count": 206,
   "id": "be761729",
   "metadata": {},
   "outputs": [
    {
     "name": "stdout",
     "output_type": "stream",
     "text": [
      "Input:  [12, 24, 35, 24, 88, 120, 155]\n",
      "Output:  [12, 35, 88, 155]\n"
     ]
    }
   ],
   "source": [
    "#Method 1\n",
    "ex8inp = [12,24,35,24,88,120,155]\n",
    "print(\"Input: \", ex8inp)\n",
    "ex8op = []\n",
    "\n",
    "for x in range(0,len(ex8inp),2):\n",
    "    ex8op.append(ex8inp[x])\n",
    "\n",
    "print(\"Output: \", ex8op)"
   ]
  },
  {
   "cell_type": "code",
   "execution_count": 205,
   "id": "90e35138",
   "metadata": {},
   "outputs": [
    {
     "name": "stdout",
     "output_type": "stream",
     "text": [
      "Input:  [12, 24, 35, 24, 88, 120, 155]\n",
      "Output:  [24, 24, 120, 155]\n"
     ]
    }
   ],
   "source": [
    "#Method 2\n",
    "ex8inp = [12,24,35,24,88,120,155]\n",
    "print(\"Input: \", ex8inp)\n",
    "ex8op = [x for (i,x) in enumerate(ex8inp) if i not in (0,2,4)]\n",
    "print(\"Output: \", ex8op)"
   ]
  },
  {
   "cell_type": "markdown",
   "id": "cb4cf48a",
   "metadata": {},
   "source": [
    "#### 9. Please write a program to randomly generate a list with 6 numbers, which are divisible by 5 and 7, between 1 and 1500 inclusive."
   ]
  },
  {
   "cell_type": "code",
   "execution_count": 275,
   "id": "ac5a92f3",
   "metadata": {},
   "outputs": [
    {
     "name": "stdout",
     "output_type": "stream",
     "text": [
      "805\n"
     ]
    }
   ],
   "source": [
    "import random\n",
    "print(random.choice([i for i in range(1,1501) if i%5==0 and i%7==0]))"
   ]
  },
  {
   "cell_type": "code",
   "execution_count": 328,
   "id": "e31fef94",
   "metadata": {},
   "outputs": [
    {
     "name": "stdout",
     "output_type": "stream",
     "text": [
      "105\n"
     ]
    }
   ],
   "source": [
    "import random\n",
    "ex9 = [i for i in range(1,1501) if i % 35 == 0 ]\n",
    "print(random.choice(ex9))"
   ]
  },
  {
   "cell_type": "markdown",
   "id": "0f9ac25d",
   "metadata": {},
   "source": [
    "#### 10. Write a program to compute 1/2+2/3+3/4+...+n/n+1 with a given n input by console (n>0).\n",
    "#### Example\n",
    "#### If the following n is given as input to the program:5\n",
    "#### Then, the output of the program should be:3.55"
   ]
  },
  {
   "cell_type": "code",
   "execution_count": 346,
   "id": "eb80f27e",
   "metadata": {},
   "outputs": [
    {
     "name": "stdout",
     "output_type": "stream",
     "text": [
      "Enter a number: 5\n",
      "3.55\n"
     ]
    }
   ],
   "source": [
    "ex10i = int(input(\"Enter a number: \"))\n",
    "x10 = 0\n",
    "\n",
    "for i in range(1,(ex10i+1)):\n",
    "    x10 = x10 + (i/(i+1))\n",
    "\n",
    "print(round(x10,2))"
   ]
  }
 ],
 "metadata": {
  "kernelspec": {
   "display_name": "Python 3 (ipykernel)",
   "language": "python",
   "name": "python3"
  },
  "language_info": {
   "codemirror_mode": {
    "name": "ipython",
    "version": 3
   },
   "file_extension": ".py",
   "mimetype": "text/x-python",
   "name": "python",
   "nbconvert_exporter": "python",
   "pygments_lexer": "ipython3",
   "version": "3.9.12"
  }
 },
 "nbformat": 4,
 "nbformat_minor": 5
}
