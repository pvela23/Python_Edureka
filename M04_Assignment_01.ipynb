{
 "cells": [
  {
   "cell_type": "markdown",
   "id": "30c1b31c",
   "metadata": {},
   "source": [
    "#### 1.  Robot moves in a plane starting from the origin point[0,0].. The robot can move toward UP, DOWN, LEFT, RIGHT. The trace of robot movements is as given following:\n",
    "\n",
    "UP 5\n",
    "DOWN 3\n",
    "LEFT 3\n",
    "RIGHT 2\n",
    "The numbers after directions are steps. Write a program to compute the distance current position after sequence of movements."
   ]
  },
  {
   "cell_type": "code",
   "execution_count": 21,
   "id": "c16701b6",
   "metadata": {},
   "outputs": [
    {
     "name": "stdout",
     "output_type": "stream",
     "text": [
      "Type in UP/DOWN/LEFT/RIGHT #step number: up 02\n",
      "Type in UP/DOWN/LEFT/RIGHT #step number: right 05\n",
      "Type in UP/DOWN/LEFT/RIGHT #step number: down 4\n",
      "Type in UP/DOWN/LEFT/RIGHT #step number: \n",
      "\n",
      "Distance: 5.385164807134504\n",
      "[5]\n",
      "[2, -2]\n"
     ]
    },
    {
     "data": {
      "image/png": "[encoded data removed]",
      "text/plain": [
       "<Figure size 432x288 with 1 Axes>"
      ]
     },
     "metadata": {
      "needs_background": "light"
     },
     "output_type": "display_data"
    }
   ],
   "source": [
    "import math\n",
    "\n",
    "x, y = 0, 0\n",
    "x1=[]\n",
    "y1=[]\n",
    "\n",
    "while True:\n",
    "    step = input(\"Type in UP/DOWN/LEFT/RIGHT #step number: \").upper()\n",
    "\n",
    "    if step == \"\":\n",
    "        break\n",
    "\n",
    "    else:\n",
    "        step = step.split(\" \")\n",
    "        if step[0] == \"UP\":\n",
    "            y = y + int(step[1])\n",
    "            y1.append(y)\n",
    "        elif step[0] == \"DOWN\":\n",
    "            y = y - int(step[1])\n",
    "            y1.append(y)            \n",
    "        elif step[0] == \"LEFT\":\n",
    "            x = x - int(step[1])\n",
    "            x1.append(x)\n",
    "        elif step[0] == \"RIGHT\":\n",
    "            x = x + int(step[1])\n",
    "            x1.append(x)\n",
    "\n",
    "c = math.sqrt(x**2 + y**2)\n",
    "print(step)\n",
    "print(\"Distance:\", c)\n",
    "print(x1)\n",
    "print(y1)\n",
    "\n",
    "import matplotlib.pyplot as plt\n",
    "plt.plot([x1],[y1],marker ='o',label=\"USA\")\n",
    "plt.grid()\n",
    "plt.show()"
   ]
  },
  {
   "cell_type": "markdown",
   "id": "125b3342",
   "metadata": {},
   "source": [
    "#### 2. Data of XYZ company is stored in a sorted list. Write a program to search for specific data from that list.\n",
    "Hint: Use if/elif to deal with conditions."
   ]
  },
  {
   "cell_type": "code",
   "execution_count": 44,
   "id": "fde5e1d8",
   "metadata": {},
   "outputs": [
    {
     "name": "stdout",
     "output_type": "stream",
     "text": [
      "Enter the elements for the list: clerk\n",
      "Enter the elements for the list: manager\n",
      "Enter the elements for the list: general manager\n",
      "Enter the elements for the list: security\n",
      "Enter the elements for the list: \n",
      "\n",
      "Please enter the element to find: clerk\n",
      "Found it!!! clerk found in XYZ corportion ['clerk', 'manager', 'general manager', 'security']\n"
     ]
    }
   ],
   "source": [
    "### 2. Data of XYZ company is stored in a sorted list. Write a program to search for specific data from that list.\n",
    "### Hint: Use if/elif to deal with conditions.\n",
    "\n",
    "ex2 = []\n",
    "cnt=cnt1=0\n",
    "#cnt1=0\n",
    "fnd = 'N'\n",
    "while True:\n",
    "    ex2_input = input('Enter the elements for the list: ')\n",
    "    \n",
    "    if ex2_input == '':\n",
    "        if cnt == 0:\n",
    "            print(\"Bye Bye!!!\")\n",
    "        break\n",
    "    else:\n",
    "        ex2.append(ex2_input)\n",
    "        cnt+=1\n",
    "\n",
    "if cnt > 0:\n",
    "    ex1 = input(\"\\nPlease enter the element to find: \")\n",
    "\n",
    "if ex1 in ex2:\n",
    "    print(\"Found it!!!\",ex1, \"found in XYZ corportion\", ex2)\n",
    "else:\n",
    "    print(f\"Sorry. {ex1} is NOT found in {ex2}\")\n",
    "        "
   ]
  },
  {
   "cell_type": "markdown",
   "id": "d16d50aa",
   "metadata": {},
   "source": [
    "#### 3. A weather forecasting organization wants to show whether it is day or night. Write a program to find whether is it dark outside or not based on the local system time.\n",
    "Hint: Use the time module."
   ]
  },
  {
   "cell_type": "code",
   "execution_count": 30,
   "id": "daf74e97",
   "metadata": {},
   "outputs": [
    {
     "name": "stdout",
     "output_type": "stream",
     "text": [
      "Its 10 PM now and is night\n"
     ]
    }
   ],
   "source": [
    "### 3. A weather forecasting organization wants to show whether it is day or night. Write a program to find whether\n",
    "###    is it dark outside or not based on the local system time.\n",
    "###    Hint: Use the time module.\n",
    "\n",
    "import time\n",
    "from datetime import datetime\n",
    "\n",
    "hr = datetime.now().hour\n",
    "timenow = time.strftime(\"%I %p\")\n",
    "\n",
    "if hr <=5 or hr >=18:\n",
    "    print(f\"Its {timenow} now and is night\")\n",
    "else:\n",
    "    print(f\"Its {timenow} now and is day\")\n"
   ]
  },
  {
   "cell_type": "markdown",
   "id": "1abd9ac7",
   "metadata": {},
   "source": [
    "#### 4. Write a program to find the distance between two locations when their latitude and longitudes are given.\n",
    "Hint: Use the math module.'''"
   ]
  },
  {
   "cell_type": "code",
   "execution_count": 31,
   "id": "13bf069a",
   "metadata": {},
   "outputs": [
    {
     "name": "stdout",
     "output_type": "stream",
     "text": [
      "The distance is 6748.40 KMs.\n",
      "The distance is 4194.16 Miles.\n"
     ]
    }
   ],
   "source": [
    "### 4. Write a program to find the distance between two locations when their latitude and longitudes are given.\n",
    "###    Hint: Use the math module.\n",
    "\n",
    "from math import radians, sin, cos, acos\n",
    "\n",
    "lat1 = 13.0836939\n",
    "long1 = 80.270186\n",
    "\n",
    "lat2 = 19.0785451\n",
    "long2 = 72.878176\n",
    "\n",
    "dist_kms = 6371.01 * acos(sin(lat1)*sin(lat2) + cos(lat1)*cos(lat2)*cos(long1 - long2))\n",
    "print(\"The distance is %.2f KMs.\" % dist_kms)\n",
    "\n",
    "dist_miles = dist_kms/1.609\n",
    "print(\"The distance is %.2f Miles.\" % dist_miles)"
   ]
  },
  {
   "cell_type": "markdown",
   "id": "c468e684",
   "metadata": {},
   "source": [
    "### 5. Design a banking system software with options like cash withdrawal, cash credit, and change password. ###      The software must display appropriate results based on user inputs.\n",
    "###     Hint: Use if else statements and functions."
   ]
  },
  {
   "cell_type": "code",
   "execution_count": 32,
   "id": "9caceeee",
   "metadata": {},
   "outputs": [
    {
     "name": "stdout",
     "output_type": "stream",
     "text": [
      "Welcome to VP Bank\n",
      "Enter the option to proceed: \n",
      "01: Cash Withdrawal \t02: Cash Credit \t03: Change Password\n",
      "01\n",
      "Enter the dollar for withdrawl: 100\n",
      "Withdrawal Amount: 100; \t Available Balance: 9900\n"
     ]
    }
   ],
   "source": [
    "### 5. Design a banking system software with options like cash withdrawal, cash credit, and change password. \n",
    "###    The software must display appropriate results based on user inputs.\n",
    "###    Hint: Use if else statements and functions.\n",
    "\n",
    "print(\"Welcome to VP Bank\")\n",
    "print(\"Enter the option to proceed: \")\n",
    "print(\"01: Cash Withdrawal \\t02: Cash Credit \\t03: Change Password\")\n",
    "opt = int(input())\n",
    "opening_balance = 10000\n",
    "\n",
    "if opt == 1:\n",
    "    w01 = int(input(\"Enter the dollar for withdrawl: \"))\n",
    "    if w01 > opening_balance:\n",
    "        print(\"Not enough funds available!!! \")\n",
    "    else:\n",
    "        opening_balance-=w01\n",
    "        print(f\"Withdrawal Amount: {w01}; \\t Available Balance: {opening_balance}\")\n",
    "elif opt == 2:\n",
    "    w02 = int(input(\"Enter the dollar to deposit: \"))\n",
    "    opening_balance+=w02\n",
    "    print(f\"Success!! Deposited Amount: {w02}; \\t Available Balance: {opening_balance}\")\n",
    "elif opt == 3:\n",
    "    w03a = input(\"Enter your new password: \")\n",
    "    w03b = input(\"Confirm your password: \")\n",
    "    \n",
    "    while w03a == w03b:\n",
    "        print(\"Success!! Password changed!! \")\n",
    "    else:\n",
    "        print(\"!!! Not Matched. Reenter details!!!\")\n",
    "#        w03a = input(\"Enter your new password: \")\n",
    "#        w03b = input(\"Confirm your password: \")\n",
    "#        print(w03a, w03b)\n",
    "\n",
    "\n",
    "        "
   ]
  },
  {
   "cell_type": "markdown",
   "id": "be1afa85",
   "metadata": {},
   "source": [
    "#### 6. Write a prograthatch will find all numbers which are divisible by 7 but are not a multiple of 5, between 2,000 and 3,200 (both included). The numbers obtained should be printed in a comma-separated sequence on a single line."
   ]
  },
  {
   "cell_type": "code",
   "execution_count": 33,
   "id": "5f1d4052",
   "metadata": {},
   "outputs": [
    {
     "name": "stdout",
     "output_type": "stream",
     "text": [
      "[2002, 2009, 2016, 2023, 2037, 2044, 2051, 2058, 2072, 2079, 2086, 2093, 2107, 2114, 2121, 2128, 2142, 2149, 2156, 2163, 2177, 2184, 2191, 2198, 2212, 2219, 2226, 2233, 2247, 2254, 2261, 2268, 2282, 2289, 2296, 2303, 2317, 2324, 2331, 2338, 2352, 2359, 2366, 2373, 2387, 2394, 2401, 2408, 2422, 2429, 2436, 2443, 2457, 2464, 2471, 2478, 2492, 2499, 2506, 2513, 2527, 2534, 2541, 2548, 2562, 2569, 2576, 2583, 2597, 2604, 2611, 2618, 2632, 2639, 2646, 2653, 2667, 2674, 2681, 2688, 2702, 2709, 2716, 2723, 2737, 2744, 2751, 2758, 2772, 2779, 2786, 2793, 2807, 2814, 2821, 2828, 2842, 2849, 2856, 2863, 2877, 2884, 2891, 2898, 2912, 2919, 2926, 2933, 2947, 2954, 2961, 2968, 2982, 2989, 2996, 3003, 3017, 3024, 3031, 3038, 3052, 3059, 3066, 3073, 3087, 3094, 3101, 3108, 3122, 3129, 3136, 3143, 3157, 3164, 3171, 3178, 3192, 3199]\n"
     ]
    }
   ],
   "source": [
    "### 6. Write a prograthatch will find all numbers which are divisible by 7 but are not a multiple of 5, \n",
    "###    between 2,000 and 3,200 (both included). The numbers obtained should be printed in a comma-separated\n",
    "###    sequence on a single line.\n",
    "\n",
    "ex9 = [i for i in range(2000,3201) if (i%7==0) and (i%5!=0) ]\n",
    "print(ex9)\n"
   ]
  },
  {
   "cell_type": "markdown",
   "id": "c93166c5",
   "metadata": {},
   "source": [
    "#### 7. Write a prograthatch that can compute the factorial of given numbers. Use recursion to find it."
   ]
  },
  {
   "cell_type": "code",
   "execution_count": 34,
   "id": "ce30ca02",
   "metadata": {},
   "outputs": [
    {
     "name": "stdout",
     "output_type": "stream",
     "text": [
      "Enter a number: 5\n",
      "Factorial of 5 is:  120\n"
     ]
    }
   ],
   "source": [
    "#### 7. Write a prograthatch that can compute the factorial of given numbers. Use recursion to find it.\n",
    "\n",
    "def call_factorial_calc(x):\n",
    "    if x == 1:\n",
    "        return 1\n",
    "    else:\n",
    "        return(x * call_factorial_calc(x-1))\n",
    "\n",
    "in1 = int(input(\"Enter a number: \"))\n",
    "\n",
    "print(f\"Factorial of {in1} is: \", call_factorial_calc(in1))\n",
    "\n",
    "\n"
   ]
  },
  {
   "cell_type": "markdown",
   "id": "c393efdb",
   "metadata": {},
   "source": [
    "####  8. Write a program that calculates and prints the value according to the given formula:\n",
    "####     Q = Square root of [(2 * C * D)/H]\n",
    "####     Following are the fixed values of C and H: C is 50. H is 30.\n",
    "####     D is the variable whose values should be input to your program in a comma-separated sequence.\n",
    "####     Example\n",
    "####     Let us assume the following comma-separated input sequence is given to the program:\n",
    "####     100,150,180\n",
    "####     The output of the program should be:\n",
    "####     18,22,24"
   ]
  },
  {
   "cell_type": "code",
   "execution_count": 35,
   "id": "db3fb6a6",
   "metadata": {},
   "outputs": [
    {
     "name": "stdout",
     "output_type": "stream",
     "text": [
      "Enter your numbers separated by commas: 1,2,3,4,5\n",
      "[2, 3, 3, 4, 4]\n"
     ]
    }
   ],
   "source": [
    "###  8. Write a program that calculates and prints the value according to the given formula:\n",
    "####     Q = Square root of [(2 * C * D)/H]\n",
    "####     Following are the fixed values of C and H: C is 50. H is 30.\n",
    "####     D is the variable whose values should be input to your program in a comma-separated sequence.\n",
    "####     Example\n",
    "####     Let us assume the following comma-separated input sequence is given to the program:\n",
    "####     100,150,180\n",
    "####     The output of the program should be:\n",
    "####     18,22,24\n",
    "\n",
    "import math\n",
    "in1 = input(\"Enter your numbers separated by commas: \").split(',')\n",
    "\n",
    "result = []\n",
    "\n",
    "for d in in1:\n",
    "    a = round(math.sqrt((2* 50 * int(d)/30)))\n",
    "    result.append(a)\n",
    "    \n",
    "print(result)\n"
   ]
  },
  {
   "cell_type": "markdown",
   "id": "2d5eda76",
   "metadata": {},
   "source": [
    "#### 9. Write a program that takes 2 digits, X, Y as input and generates a 2-dimensional array. The element value in the ith row and jth column of the array should be i*j.\n",
    "####    Note: I = 0, 1, .., X - 1; j = 0, 1, ¡Y-1.\n",
    "####    Example\n",
    "####    Suppose the following inputs are given to the program:  3,5\n",
    "####    Then, the output of the program should be: [[0, 0, 0, 0, 0], [0, 1, 2, 3, 4], [0, 2, 4, 6, 8]]"
   ]
  },
  {
   "cell_type": "code",
   "execution_count": 38,
   "id": "b3cf4a9a",
   "metadata": {},
   "outputs": [
    {
     "name": "stdout",
     "output_type": "stream",
     "text": [
      "Enter the number of Rows: 3\n",
      "Enter the number of Columns: 5\n",
      "[[0, 0, 0, 0, 0], [0, 1, 2, 3, 4], [0, 2, 4, 6, 8]]\n"
     ]
    }
   ],
   "source": [
    "#### 9. Write a program that takes 2 digits, X, Y as input and generates a 2-dimensional array. The element value \n",
    "####    in the ith row and jth column of the array should be i*j.\n",
    "####    Note: I = 0, 1, .., X - 1; j = 0, 1, ¡Y-1.\n",
    "####    Example\n",
    "####    Suppose the following inputs are given to the program:\n",
    "####    3,5\n",
    "####    Then, the output of the program should be:\n",
    "####    [[0, 0, 0, 0, 0], [0, 1, 2, 3, 4], [0, 2, 4, 6, 8]]\n",
    "\n",
    "rows = int(input(\"Enter the number of Rows: \"))\n",
    "cols = int(input(\"Enter the number of Columns: \"))\n",
    "\n",
    "array_list = [[0 for col in range(cols)] for row in range(rows)]\n",
    "\n",
    "#print(array_list)\n",
    "\n",
    "for row in range(rows):\n",
    "    for col in range(cols):\n",
    "        array_list[row][col] = row * col\n",
    "        \n",
    "print(array_list)"
   ]
  },
  {
   "cell_type": "markdown",
   "id": "3e676270",
   "metadata": {},
   "source": [
    "#### 10. Write a program that accepts a comma-separated sequence of words as input and prints the words in a comma-separated sequence after sorting them alphabetically.\n",
    "Suppose the following input is supplied to the program:\n",
    "without, hello, bag, world\n",
    "Then, the output should be:\n",
    "bag, hello, without, world"
   ]
  },
  {
   "cell_type": "code",
   "execution_count": 39,
   "id": "09678924",
   "metadata": {},
   "outputs": [
    {
     "name": "stdout",
     "output_type": "stream",
     "text": [
      "Enter the input: without, hello, bag, world\n",
      "bag, hello, without, world\n"
     ]
    }
   ],
   "source": [
    "#### 10. Write a program that accepts a comma-separated sequence of words as input and prints the words in a \n",
    "#### comma-separated sequence after sorting them alphabetically.\n",
    "\n",
    "#### Suppose the following input is supplied to the program:\n",
    "#### without, hello, bag, world\n",
    "#### Then, the output should be:\n",
    "#### bag, hello, without, world\n",
    "\n",
    "getstr = input(\"Enter the input: \").split(',')\n",
    "getstr_trimmed = [x.strip(' ') for x in getstr]\n",
    "getstr_trimmed.sort()\n",
    "print((', ').join(getstr_trimmed))"
   ]
  },
  {
   "cell_type": "code",
   "execution_count": 40,
   "id": "414241c5",
   "metadata": {},
   "outputs": [
    {
     "name": "stdout",
     "output_type": "stream",
     "text": [
      "Please your input (leave blank to finish): Hello world\n",
      "Please your input (leave blank to finish): practice makes perfect\n",
      "Please your input (leave blank to finish): \n",
      "HELLO WORLD\n",
      "PRACTICE MAKES PERFECT\n",
      "\n"
     ]
    }
   ],
   "source": [
    "#### 11. Write a program that accepts a sequence of lines as input and prints the lines after making all characters in the sentence capitalized.\n",
    "#### Suppose the following input is supplied to the program:\n",
    "#### • Hello world\n",
    "#### • Practice makes perfect\n",
    "#### Then, the output should be:\n",
    "#### • HELLO WORLD\n",
    "#### • PRACTICE MAKES PERFECT\n",
    "\n",
    "seq = []\n",
    "getinp = []\n",
    "\n",
    "while (getinp != \"\"):\n",
    "    getinp = input(\"Please your input (leave blank to finish): \").upper()\n",
    "    seq.append(getinp)\n",
    "            \n",
    "#print(' '.join(seq))\n",
    "for gi in seq:\n",
    "    print(gi)"
   ]
  },
  {
   "cell_type": "code",
   "execution_count": 41,
   "id": "74abf201",
   "metadata": {},
   "outputs": [
    {
     "name": "stdout",
     "output_type": "stream",
     "text": [
      "Enter the sequence of words: hello world and practice makes perfect and hello world again\n",
      "again and hello makes perfect practice world\n"
     ]
    }
   ],
   "source": [
    "#### 12. Write a program that accepts a sequence of whitespace-separated words as input  \n",
    "####     and prints the words afterremoving all duplicate words and sorting them alphanumerically.\n",
    "####     Suppose the following input is supplied to the program:\n",
    "####        hello world and practice makes perfect and hello world again\n",
    "####     Then, the output should be:\n",
    "####       again and hello makes perfect practice world\n",
    "\n",
    "getinp12 = input(\"Enter the sequence of words: \").split()\n",
    "temp = []\n",
    "\n",
    "for i in getinp12:\n",
    "    if i not in temp:\n",
    "        temp.append(i)\n",
    "\n",
    "temp.sort()\n",
    "print(' '.join(temp))\n"
   ]
  },
  {
   "cell_type": "code",
   "execution_count": 42,
   "id": "19c50e1d",
   "metadata": {},
   "outputs": [
    {
     "name": "stdout",
     "output_type": "stream",
     "text": [
      "0100,0011,1010,1001\n",
      "1010\n"
     ]
    }
   ],
   "source": [
    "#### 13. Write a program that accepts a sequence of comma-separated 4-digit binary numbers \n",
    "#### as its input and then check whether they are divisible by 5 or not. The numbers that are divisible \n",
    "#### by 5 are to be printed in a comma-separated sequence.\n",
    "#### Example\n",
    "#### 0100,0011,1010,1001\n",
    "#### Then the output should be:\n",
    "#### 1010\n",
    "\n",
    "items = []\n",
    "num = [x for x in input().split(',')]\n",
    "for p in num:\n",
    "    x = int(p, 2) ## Binary to decimal\n",
    "    if not x%5:\n",
    "        items.append(p)\n",
    "print(','.join(items))\n",
    "\n",
    "#Binary to Decimal (int(p,2))\n",
    "#Octal to Decimal (int(p,8))\n",
    "#hex-decimal to decimal (int(p,16))"
   ]
  },
  {
   "cell_type": "code",
   "execution_count": 43,
   "id": "901a5806",
   "metadata": {},
   "outputs": [
    {
     "name": "stdout",
     "output_type": "stream",
     "text": [
      "Enter the sentence: Hello world!\n",
      "Hello world!\n",
      "UPPER CASE 1 \n",
      "LOWER CASE 9\n"
     ]
    }
   ],
   "source": [
    "#### 14. Write a program that accepts a sentence and calculate the number of upper-case letters and \n",
    "#### lower-case letters. Suppose the following input is supplied to the program:\n",
    "#### Hello world!\n",
    "#### Then, the output should be:\n",
    "#### UPPER CASE 1\n",
    "#### LOWER CASE 9\n",
    "\n",
    "up = 0\n",
    "low = 0\n",
    "ex14 = input(\"Enter the sentence: \")\n",
    "ex14.split(',')\n",
    "print(ex14)\n",
    "\n",
    "for char in ex14:\n",
    "    if char.isupper():\n",
    "        up+=1\n",
    "    elif char.islower():\n",
    "        low+=1\n",
    "\n",
    "print(f\"UPPER CASE {up} \\nLOWER CASE {low}\")"
   ]
  },
  {
   "cell_type": "code",
   "execution_count": 20,
   "id": "326d78b3",
   "metadata": {},
   "outputs": [
    {
     "name": "stdout",
     "output_type": "stream",
     "text": [
      "45.0\n",
      "15.0\n",
      "19.1\n",
      "19.1\n",
      "15\n"
     ]
    }
   ],
   "source": [
    "#### 15. Give an example of fsum and sum function of math library.\n",
    "\n",
    "# Import math Library\n",
    "import math\n",
    "\n",
    "# Print the sum of all items\n",
    "print(math.fsum(range(0,10))) # 45.0 --> Range\n",
    "\n",
    "my_list=[1,2,3,4,5]\n",
    "print(math.fsum(my_list)) # 15.0 --> List\n",
    "\n",
    "my_tuple=(1.3,4.5,6.2,7.1)\n",
    "print(math.fsum(my_tuple)) # 19.1 --> Tuples\n",
    "\n",
    "my_set={1.3,4.5,6.2,7.1}\n",
    "print(math.fsum(my_set)) # 19.1 -->> Sets\n",
    "\n",
    "## SUM is built-in and we dont need to import it\n",
    "my_sum = 5 + 10\n",
    "print(my_sum)"
   ]
  }
 ],
 "metadata": {
  "kernelspec": {
   "display_name": "Python 3 (ipykernel)",
   "language": "python",
   "name": "python3"
  },
  "language_info": {
   "codemirror_mode": {
    "name": "ipython",
    "version": 3
   },
   "file_extension": ".py",
   "mimetype": "text/x-python",
   "name": "python",
   "nbconvert_exporter": "python",
   "pygments_lexer": "ipython3",
   "version": "3.9.12"
  }
 },
 "nbformat": 4,
 "nbformat_minor": 5
}
