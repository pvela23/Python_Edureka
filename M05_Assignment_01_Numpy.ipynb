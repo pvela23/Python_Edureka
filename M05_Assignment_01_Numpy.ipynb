{
 "cells": [
  {
   "cell_type": "code",
   "execution_count": 1,
   "id": "b237bd92",
   "metadata": {},
   "outputs": [
    {
     "name": "stdout",
     "output_type": "stream",
     "text": [
      "[[-2 -2 -2]\n",
      " [ 4  5  6]\n",
      " [-2 -2 -2]]\n"
     ]
    }
   ],
   "source": [
    "#### 1. Convert the given list into a numpy array and replace the odd elements with -2.\n",
    "#### Lst =[[1,2,3],\n",
    "#### [4,5,6],\n",
    "#### [7,8,9]]\n",
    "\n",
    "import numpy as np\n",
    "\n",
    "arr = np.array(([1,2,3],[4,5,6],[7,8,9]))\n",
    "    \n",
    "for i in range(len(arr)):\n",
    "    if (i%2==0):\n",
    "        arr[i] = -2\n",
    "print(arr)"
   ]
  },
  {
   "cell_type": "code",
   "execution_count": 2,
   "id": "8a3ba21d",
   "metadata": {},
   "outputs": [
    {
     "name": "stdout",
     "output_type": "stream",
     "text": [
      "[[-2  2 -2]\n",
      " [ 4 -2  6]\n",
      " [-2  8 -2]]\n"
     ]
    }
   ],
   "source": [
    "#### 1. Convert the given list into a numpy array and replace the odd elements with -2.\n",
    "#### Lst =[[1,2,3],\n",
    "#### [4,5,6],\n",
    "#### [7,8,9]]\n",
    "\n",
    "import numpy as np\n",
    "\n",
    "arr = np.array(([1,2,3],[4,5,6],[7,8,9]))\n",
    "    \n",
    "arr[arr%2==1] = -2\n",
    "print(arr)"
   ]
  },
  {
   "cell_type": "code",
   "execution_count": 3,
   "id": "a7f90342",
   "metadata": {
    "scrolled": true
   },
   "outputs": [
    {
     "name": "stdout",
     "output_type": "stream",
     "text": [
      "8\n",
      "9\n",
      "10\n",
      "12\n"
     ]
    }
   ],
   "source": [
    "#### 2. In the numpy array given below print all the elements ranging from 8 to 15.\n",
    "####     arr = [1,2,3,4,5,8,9,10,12,22,32,54,99,6,7]\n",
    "\n",
    "import numpy as np\n",
    "\n",
    "arr = np.array([1,2,3,4,5,8,9,10,12,22,32,54,99,6,7])\n",
    "\n",
    "for i in range(len(arr)):\n",
    "    if arr[i] >= 8 and arr[i] <=15:\n",
    "        print(arr[i])"
   ]
  },
  {
   "cell_type": "code",
   "execution_count": 4,
   "id": "5135d4d9",
   "metadata": {},
   "outputs": [
    {
     "name": "stdout",
     "output_type": "stream",
     "text": [
      "Before Swap:\n",
      " [[1 2 3]\n",
      " [4 5 6]\n",
      " [7 8 9]]\n",
      "After Swap:\n",
      " [[2 1 3]\n",
      " [5 4 6]\n",
      " [8 7 9]]\n"
     ]
    }
   ],
   "source": [
    "#### 3. Create a 3*3 narray that includes numbers from 1 to 9 and swap columns 1 and 2.\n",
    "\n",
    "import numpy as np\n",
    "\n",
    "v = np.arange(1,10).reshape(3,3)\n",
    "print('Before Swap:\\n', v)\n",
    "\n",
    "#Syntax -> arr[:, [start_index, last_index]] = arr[:, [last_index, start_index]]\n",
    "\n",
    "v[:,[1,0]] = v[:,[0,1]]\n",
    "print('After Swap:\\n', v)"
   ]
  },
  {
   "cell_type": "code",
   "execution_count": 5,
   "id": "6e4a6116",
   "metadata": {},
   "outputs": [
    {
     "name": "stdout",
     "output_type": "stream",
     "text": [
      "initial array [[1.3 2.5 3.6 nan]\n",
      " [2.6 3.3 nan 5.5]\n",
      " [2.1 3.2 5.4 6.5]]\n",
      "columns mean [2.  3.  4.5 6. ]\n",
      "final array [[1.3 2.5 3.6 6. ]\n",
      " [2.6 3.3 4.5 5.5]\n",
      " [2.1 3.2 5.4 6.5]]\n"
     ]
    }
   ],
   "source": [
    "#### 4. In the given numpy array replace the NaN values with the average of columns\n",
    "####    arr = np.array([[1.3, 2.5, 3.6, np.nan],\n",
    "####                    [2.6, 3.3, np.nan, 5.5],\n",
    "####                    [2.1, 3.2, 5.4, 6.5]])\n",
    "\n",
    "\n",
    "import numpy as np\n",
    "\n",
    "# Initialising numpy array\n",
    "ini_array = np.array([[1.3, 2.5, 3.6, np.nan],\n",
    "                      [2.6, 3.3, np.nan, 5.5],\n",
    "                      [2.1, 3.2, 5.4, 6.5]])\n",
    "\n",
    "# printing initial array\n",
    "print (\"initial array\", ini_array)\n",
    "\n",
    "# column mean\n",
    "col_mean = np.nanmean(ini_array, axis = 0)\n",
    "\n",
    "# printing column mean\n",
    "print (\"columns mean\", str(col_mean))\n",
    "\n",
    "# find indices where nan value is present\n",
    "inds = np.where(np.isnan(ini_array))\n",
    "\n",
    "# replace inds with avg of column\n",
    "ini_array[inds] = np.take(col_mean, inds[1])\n",
    "\n",
    "# printing final array\n",
    "print (\"final array\", ini_array)"
   ]
  },
  {
   "cell_type": "code",
   "execution_count": 9,
   "id": "6c9529e0",
   "metadata": {},
   "outputs": [
    {
     "name": "stdout",
     "output_type": "stream",
     "text": [
      "[1 2 3 4 5 6]\n"
     ]
    }
   ],
   "source": [
    "#### 5. For the numpy array given below perform the following operation:\n",
    "#### i.Convert the numpy array into a numpy matrix\n",
    "#### ii.Sort the values in a matrix\n",
    "#### arr = [[2,4,6],\n",
    "####       [1,3,5]]\n",
    "\n",
    "import numpy as np\n",
    "\n",
    "arr = np.array([(2,4,6),(1,3,5)])\n",
    "arr1 = arr.ravel()\n",
    "arr1 = np.sort(arr1)\n",
    "print(arr1)"
   ]
  }
 ],
 "metadata": {
  "kernelspec": {
   "display_name": "Python 3 (ipykernel)",
   "language": "python",
   "name": "python3"
  },
  "language_info": {
   "codemirror_mode": {
    "name": "ipython",
    "version": 3
   },
   "file_extension": ".py",
   "mimetype": "text/x-python",
   "name": "python",
   "nbconvert_exporter": "python",
   "pygments_lexer": "ipython3",
   "version": "3.9.12"
  }
 },
 "nbformat": 4,
 "nbformat_minor": 5
}
