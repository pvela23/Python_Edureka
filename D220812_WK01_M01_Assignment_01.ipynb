{
 "cells": [
  {
   "cell_type": "markdown",
   "id": "868ee776",
   "metadata": {},
   "source": [
    "### 1. Write a program to find the factors of agiven number and check whether the factor is even or odd.\n",
    "##### Hint: Use Loop with if-else statements"
   ]
  },
  {
   "cell_type": "code",
   "execution_count": 1,
   "id": "e4fbb236",
   "metadata": {},
   "outputs": [
    {
     "name": "stdout",
     "output_type": "stream",
     "text": [
      "Enter a number :5\n",
      "Input is an integer number:  5\n",
      "Odd\n"
     ]
    }
   ],
   "source": [
    "def check_input(input):\n",
    "    try:\n",
    "        val = int(input)\n",
    "        print(\"Input is an integer number: \", val)\n",
    "        if (val % 2) == 0:\n",
    "            print (\"Even\")\n",
    "        else:\n",
    "            print(\"Odd\")\n",
    "    except ValueError:\n",
    "        try:\n",
    "            val = float(input)\n",
    "            print(f\"{val} is an Float Number!!, Please enter an Integer\")\n",
    "        except ValueError:\n",
    "            print(\"Input cannot be a string!!!\")\n",
    "\n",
    "getinput = input(\"Enter a number :\")\n",
    "check_input(getinput)    \n"
   ]
  },
  {
   "cell_type": "markdown",
   "id": "17967438",
   "metadata": {},
   "source": [
    "### 2. Write a code that accepts a sequence of words as input and prints the words in a sequence after sorting them alphabetically.\n",
    "\n",
    "#### Hint: Use split() to split the string into a list and then apply sort()"
   ]
  },
  {
   "cell_type": "code",
   "execution_count": 2,
   "id": "0efe9f38",
   "metadata": {},
   "outputs": [
    {
     "name": "stdout",
     "output_type": "stream",
     "text": [
      "Enter some strings: n f e l z  A\n",
      "A\n",
      "e\n",
      "f\n",
      "l\n",
      "n\n",
      "z\n"
     ]
    }
   ],
   "source": [
    "getchar = str(input(\"Enter some strings: \"))\n",
    "\n",
    "getcharlist = getchar.split() #Get input to a list\n",
    "getcharlist.sort() #Sort the list\n",
    "#print(getcharlist) \n",
    "\n",
    "#Print the list in sequence\n",
    "for getlist in getcharlist:\n",
    "    print (getlist)\n"
   ]
  },
  {
   "cell_type": "markdown",
   "id": "c6d4e99e",
   "metadata": {},
   "source": [
    "### 3. Write a program that will find all the numbers between 1000 and 3000 (both excluded) such that each digit of a number is an odd number. Print the number of such elements\n",
    "\n",
    "## Solution 1"
   ]
  },
  {
   "cell_type": "code",
   "execution_count": 55,
   "id": "87610e68",
   "metadata": {},
   "outputs": [
    {
     "name": "stdout",
     "output_type": "stream",
     "text": [
      "[1111, 1113, 1115, 1117, 1119, 1131, 1133, 1135, 1137, 1139, 1151, 1153, 1155, 1157, 1159, 1171, 1173, 1175, 1177, 1179, 1191, 1193, 1195, 1197, 1199, 1311, 1313, 1315, 1317, 1319, 1331, 1333, 1335, 1337, 1339, 1351, 1353, 1355, 1357, 1359, 1371, 1373, 1375, 1377, 1379, 1391, 1393, 1395, 1397, 1399, 1511, 1513, 1515, 1517, 1519, 1531, 1533, 1535, 1537, 1539, 1551, 1553, 1555, 1557, 1559, 1571, 1573, 1575, 1577, 1579, 1591, 1593, 1595, 1597, 1599, 1711, 1713, 1715, 1717, 1719, 1731, 1733, 1735, 1737, 1739, 1751, 1753, 1755, 1757, 1759, 1771, 1773, 1775, 1777, 1779, 1791, 1793, 1795, 1797, 1799, 1911, 1913, 1915, 1917, 1919, 1931, 1933, 1935, 1937, 1939, 1951, 1953, 1955, 1957, 1959, 1971, 1973, 1975, 1977, 1979, 1991, 1993, 1995, 1997, 1999]\n"
     ]
    }
   ],
   "source": [
    "oddNum = []\n",
    "\n",
    "for x in range (1000,3000):\n",
    "    nums = [int(d) for d in str(x)] #NUMS is a list. \n",
    "    even = False\n",
    "    for y in range (0, len(nums)): #Spin thru byte by byte\n",
    "        if nums[y] % 2 == 0:\n",
    "            even = True\n",
    "            \n",
    "    if (even == False):\n",
    "        oddNum.append(x)\n",
    "\n",
    "print(oddNum)"
   ]
  },
  {
   "cell_type": "markdown",
   "id": "9471589a",
   "metadata": {},
   "source": [
    "## Solution 2"
   ]
  },
  {
   "cell_type": "code",
   "execution_count": 52,
   "id": "ed83a099",
   "metadata": {},
   "outputs": [
    {
     "name": "stdout",
     "output_type": "stream",
     "text": [
      "1111,1113,1115,1117,1119,1131,1133,1135,1137,1139,1151,1153,1155,1157,1159,1171,1173,1175,1177,1179,1191,1193,1195,1197,1199,1311,1313,1315,1317,1319,1331,1333,1335,1337,1339,1351,1353,1355,1357,1359,1371,1373,1375,1377,1379,1391,1393,1395,1397,1399,1511,1513,1515,1517,1519,1531,1533,1535,1537,1539,1551,1553,1555,1557,1559,1571,1573,1575,1577,1579,1591,1593,1595,1597,1599,1711,1713,1715,1717,1719,1731,1733,1735,1737,1739,1751,1753,1755,1757,1759,1771,1773,1775,1777,1779,1791,1793,1795,1797,1799,1911,1913,1915,1917,1919,1931,1933,1935,1937,1939,1951,1953,1955,1957,1959,1971,1973,1975,1977,1979,1991,1993,1995,1997,1999\n"
     ]
    }
   ],
   "source": [
    "items = []\n",
    "for i in range(1000, 3000):\n",
    "    s = str(i)\n",
    "    if (int(s[0])%2!=0) and (int(s[1])%2!=0) and (int(s[2])%2!=0) and (int(s[3])%2!=0):\n",
    "        items.append(s)\n",
    "print( \",\".join(items))"
   ]
  },
  {
   "cell_type": "markdown",
   "id": "fcf05d24",
   "metadata": {},
   "source": [
    "### 4. Write a program that accepts a string and calculates the number of letters and digits.\n",
    "#### Suppose if the entered string is: Edureka123\n",
    "#### Then the output will be:  LETTERS: - 7 and  DIGITS: - 3"
   ]
  },
  {
   "cell_type": "code",
   "execution_count": 6,
   "id": "4e9b00e0",
   "metadata": {},
   "outputs": [
    {
     "name": "stdout",
     "output_type": "stream",
     "text": [
      "Enter a string mixed of letters and digits: Vela123\n",
      "7\n",
      "Letters: 4, Digits: 3\n"
     ]
    }
   ],
   "source": [
    "strcount = intcount = 0\n",
    "\n",
    "getinput = input(\"Enter a string mixed of letters and digits: \")\n",
    "getlen = len(getinput)\n",
    "print(getlen)\n",
    "\n",
    "#Print the list in sequence\n",
    "for v in range(0, getlen):\n",
    "    v1 = getinput[v]\n",
    "    if v1.isdigit():\n",
    "        intcount += 1\n",
    "    elif v1.isalpha():\n",
    "        strcount += 1 \n",
    "\n",
    "print(f\"Letters: {strcount}, Digits: {intcount}\")\n",
    "\n"
   ]
  }
 ],
 "metadata": {
  "kernelspec": {
   "display_name": "Python 3 (ipykernel)",
   "language": "python",
   "name": "python3"
  },
  "language_info": {
   "codemirror_mode": {
    "name": "ipython",
    "version": 3
   },
   "file_extension": ".py",
   "mimetype": "text/x-python",
   "name": "python",
   "nbconvert_exporter": "python",
   "pygments_lexer": "ipython3",
   "version": "3.9.12"
  }
 },
 "nbformat": 4,
 "nbformat_minor": 5
}
