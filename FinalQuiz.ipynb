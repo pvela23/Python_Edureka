{
 "cells": [
  {
   "cell_type": "code",
   "execution_count": 225,
   "id": "ce605514",
   "metadata": {},
   "outputs": [
    {
     "name": "stdout",
     "output_type": "stream",
     "text": [
      "[1, 4, 9, 16, 25]\n"
     ]
    }
   ],
   "source": [
    "num=[1,2,3,4,5]\n",
    "outcome=list(map(lambda x:x**2, num))\n",
    "print(outcome)"
   ]
  },
  {
   "cell_type": "code",
   "execution_count": 227,
   "id": "cb5e9db9",
   "metadata": {},
   "outputs": [
    {
     "name": "stdout",
     "output_type": "stream",
     "text": [
      "[2, 4]\n"
     ]
    }
   ],
   "source": [
    "num=[1,2,3,4,5]\n",
    "outcome=list(filter(lambda x:x%2==0, num))\n",
    "print(outcome)"
   ]
  },
  {
   "cell_type": "code",
   "execution_count": 229,
   "id": "46db0966",
   "metadata": {},
   "outputs": [
    {
     "name": "stdout",
     "output_type": "stream",
     "text": [
      "Enter a number:10\n",
      "Enter another number:0\n",
      "Dividing by zero\n",
      "Run over\n"
     ]
    }
   ],
   "source": [
    "a=int(input(\"Enter a number:\"))\n",
    "b=int(input(\"Enter another number:\"))\n",
    "try:\n",
    "    c=a/b\n",
    "except ZeroDivisionError:\n",
    "    print(\"Dividing by zero\")\n",
    "except:\n",
    "    print(\"ZeroDivisionError found on dividing by 0\")\n",
    "else:\n",
    "    print(c)\n",
    "finally:\n",
    "    print(\"Run over\")"
   ]
  },
  {
   "cell_type": "code",
   "execution_count": 234,
   "id": "c59a1252",
   "metadata": {},
   "outputs": [
    {
     "name": "stdout",
     "output_type": "stream",
     "text": [
      "{'Italy', 'India', 'Germany', 'UK'}\n"
     ]
    }
   ],
   "source": [
    "import pandas as pd \n",
    "df1=pd.DataFrame({\"Employee_ID\":[1,2,3,4,5], \n",
    "                  \"Country\":['India','UK','Germany','Italy','India'], \n",
    "                  \"Manager_ID\":[3,4,4,5,3]})\n",
    "print(set(df1['Country']))"
   ]
  },
  {
   "cell_type": "code",
   "execution_count": 237,
   "id": "de173c34",
   "metadata": {},
   "outputs": [
    {
     "name": "stdout",
     "output_type": "stream",
     "text": [
      "Current Time: 2022-09-28 16:38:02.540989\n"
     ]
    }
   ],
   "source": [
    "import datetime\n",
    "current_time=datetime.datetime.now()\n",
    "print(\"Current Time:\",current_time)"
   ]
  },
  {
   "cell_type": "code",
   "execution_count": null,
   "id": "7c94c949",
   "metadata": {},
   "outputs": [],
   "source": [
    "def details(**kwargs):\n",
    "    print(kwargs)\n",
    "\n",
    "details(principal=100.0, rate=5.5,time=10)\n"
   ]
  },
  {
   "cell_type": "code",
   "execution_count": null,
   "id": "9d01b0b6",
   "metadata": {},
   "outputs": [],
   "source": [
    "import numpy as np\n",
    "vec1 = np.arange(0, 12)\n",
    "vec2 = vec1.reshape(4, 3)\n",
    "print(vec2)"
   ]
  },
  {
   "cell_type": "code",
   "execution_count": null,
   "id": "b55a42d7",
   "metadata": {},
   "outputs": [],
   "source": [
    "import pandas as pd\n",
    "\n",
    "df['name'] = pd.dataframe(\"Ve\",\"la\",\"pa\",\"la\",\"ni\")\n",
    "df['age'] = pd.dataframe(10,20,30,40,50)"
   ]
  },
  {
   "cell_type": "code",
   "execution_count": null,
   "id": "6f57b3a2",
   "metadata": {},
   "outputs": [],
   "source": []
  },
  {
   "cell_type": "code",
   "execution_count": null,
   "id": "ce10f01c",
   "metadata": {},
   "outputs": [],
   "source": []
  },
  {
   "cell_type": "code",
   "execution_count": null,
   "id": "f9f38590",
   "metadata": {},
   "outputs": [],
   "source": []
  },
  {
   "cell_type": "code",
   "execution_count": null,
   "id": "56a2e5fc",
   "metadata": {},
   "outputs": [],
   "source": []
  }
 ],
 "metadata": {
  "kernelspec": {
   "display_name": "Python 3 (ipykernel)",
   "language": "python",
   "name": "python3"
  },
  "language_info": {
   "codemirror_mode": {
    "name": "ipython",
    "version": 3
   },
   "file_extension": ".py",
   "mimetype": "text/x-python",
   "name": "python",
   "nbconvert_exporter": "python",
   "pygments_lexer": "ipython3",
   "version": "3.9.12"
  }
 },
 "nbformat": 4,
 "nbformat_minor": 5
}
