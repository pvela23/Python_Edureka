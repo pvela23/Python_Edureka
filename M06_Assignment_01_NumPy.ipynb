{
 "cells": [
  {
   "cell_type": "markdown",
   "id": "6436a7c5",
   "metadata": {},
   "source": [
    "5. How do you count the frequency of each value appearing in the given array of integers?\n",
    "\n",
    "[0, 5, 4, 0, 4, 4, 3, 0, 0, 5, 2, 1, 1, 9]\n",
    "\n",
    "Answer: \n",
    "array([4, 2, 1, 1, 3, 2, 0, 0, 0, 1]) \n",
    "which means 0 comes 4 times, 1 comes 2 times, 2 comes 1 time, 3 comes 1 time and so on."
   ]
  },
  {
   "cell_type": "code",
   "execution_count": null,
   "id": "f6025ccb",
   "metadata": {},
   "outputs": [],
   "source": [
    "arr =  [0, 5, 4, 0, 4, 4, 3, 0, 0, 5, 2, 1, 1, 9]\n",
    "\n",
    "arr_count = []\n",
    "for item in np.arange(0,10):\n",
    "    if np.isin(item,arr):\n",
    "        arr_count.append(arr.count(item))\n",
    "    else:\n",
    "        arr_count.append(0)\n",
    "print(arr_count)"
   ]
  },
  {
   "cell_type": "markdown",
   "id": "ec7fbf7b",
   "metadata": {},
   "source": [
    "6. Create a NumPy array [[0, 1, 2], [ 3, 4, 5], [ 6, 7, 8],[ 9, 10, 11]]) and filter the elements greater than 5."
   ]
  },
  {
   "cell_type": "code",
   "execution_count": 65,
   "id": "bf1d6be7",
   "metadata": {},
   "outputs": [
    {
     "name": "stdout",
     "output_type": "stream",
     "text": [
      "Elements greater than 5: [ 6  7  8  9 10 11]\n"
     ]
    }
   ],
   "source": [
    "import numpy as np\n",
    "\n",
    "arr = np.array( [[0, 1, 2], [ 3, 4, 5], [ 6, 7, 8],[ 9, 10, 11]])\n",
    "print(\"Elements greater than 5:\", arr[arr>5])"
   ]
  },
  {
   "cell_type": "markdown",
   "id": "9869ae9c",
   "metadata": {},
   "source": [
    "7. Create a NumPy array having NaN (Not a Number) and print it.\n",
    "\n",
    "array([ nan, 1., 2., NaN, 3., 4., 5.])\n",
    "\n",
    "Print the same array omitting all elements, which are NaN."
   ]
  },
  {
   "cell_type": "code",
   "execution_count": 71,
   "id": "a56500c4",
   "metadata": {},
   "outputs": [
    {
     "name": "stdout",
     "output_type": "stream",
     "text": [
      "[nan  1.  2. nan  3.  4.  5.]\n",
      "[1. 2. 3. 4. 5.]\n"
     ]
    }
   ],
   "source": [
    "ex7 = np.array([np.nan, 1., 2., np.NaN, 3., 4., 5.])\n",
    "print(ex7)\n",
    "print(ex7[~np.isnan(ex7)])"
   ]
  },
  {
   "cell_type": "markdown",
   "id": "c4dcfb52",
   "metadata": {},
   "source": [
    "8. Create a 10x10 array with random values and find the minimum and maximum values."
   ]
  },
  {
   "cell_type": "code",
   "execution_count": 112,
   "id": "43c7f7db",
   "metadata": {},
   "outputs": [
    {
     "name": "stdout",
     "output_type": "stream",
     "text": [
      "Shape of the array: (10, 10)\n",
      "\n",
      " [[51 42 47 51 78 27 67 90 94 12]\n",
      " [24 67 49  6 69 64 13 96 38 10]\n",
      " [91 39 61 98 15 32 27  9 13 31]\n",
      " [51 62 77 75 81 88 82  2 31  9]\n",
      " [59  3 86 82 19 18 33 55 81 97]\n",
      " [77 36 24 47 71 47 23 93 24  5]\n",
      " [24 42 26 77 46 41 26 25 88 67]\n",
      " [28 90 44 16 37 91 31 19 14  2]\n",
      " [44 78 67 34 82 85  4 89 42 97]\n",
      " [35 29 33 24 12 43 26 22 26 76]]\n",
      "\n",
      "Min value:2, Max Value: 98\n"
     ]
    }
   ],
   "source": [
    "ex8 = np.random.randint(99,size=(10,10))\n",
    "\n",
    "print(\"Shape of the array:\", ex8.shape)\n",
    "\n",
    "print(\"\\n\",ex8)\n",
    "\n",
    "print(f\"\\nMin value:{ex8.min()}, Max Value: {ex8.max()}\")"
   ]
  },
  {
   "cell_type": "markdown",
   "id": "28502165",
   "metadata": {},
   "source": [
    "9. Create a random vector of size 30 and find the mean value."
   ]
  },
  {
   "cell_type": "code",
   "execution_count": 140,
   "id": "00026338",
   "metadata": {},
   "outputs": [
    {
     "name": "stdout",
     "output_type": "stream",
     "text": [
      "[0.12739517 0.04283945 0.03928758 0.37969258 0.07353353 0.87471345\n",
      " 0.22355967 0.95339502 0.26030868 0.93919346 0.67276944 0.25440801\n",
      " 0.10015855 0.7180105  0.39301165 0.03903159 0.73153595 0.91197005\n",
      " 0.36926297 0.98713587 0.58771228 0.88679564 0.19649179 0.44747425\n",
      " 0.39426272 0.6764841  0.38594156 0.06262035 0.85084888 0.51943985]\n",
      "\n",
      "Mean is: 0.4699761531836609\n"
     ]
    }
   ],
   "source": [
    "# random.random_integers(low, high=None, size=None) -> Will generate 30 random numbers between 0-10\n",
    "\n",
    "ex9 = np.random.rand(30)\n",
    "print(ex9)\n",
    "print(\"\\nMean is:\",ex9.mean())"
   ]
  },
  {
   "cell_type": "markdown",
   "id": "bafa9d0e",
   "metadata": {},
   "source": [
    "10. Create a NumPy array having elements 0 to 10 And negate all the elements between 3 and 9."
   ]
  },
  {
   "cell_type": "code",
   "execution_count": 184,
   "id": "3d7ef6ad",
   "metadata": {},
   "outputs": [
    {
     "name": "stdout",
     "output_type": "stream",
     "text": [
      "Original List:\n",
      " [[ 7 11 11  3  8]\n",
      " [11  6 18 18 13]\n",
      " [ 4  4  0  1  8]]\n",
      "Modified List:\n",
      "[[-7 11 11 -3 -8]\n",
      " [11 -6 18 18 13]\n",
      " [-4 -4  0  1 -8]]\n"
     ]
    }
   ],
   "source": [
    "ex10 = np.random.randint(20,size=(3,5))\n",
    "print(\"Original List:\\n\",ex10)\n",
    "print(\"Modified List:\")\n",
    "print(np.where((ex10 > 2) & (ex10 < 10),ex10*-1, ex10))"
   ]
  },
  {
   "cell_type": "code",
   "execution_count": null,
   "id": "47bb4bfd",
   "metadata": {},
   "outputs": [],
   "source": []
  }
 ],
 "metadata": {
  "kernelspec": {
   "display_name": "Python 3 (ipykernel)",
   "language": "python",
   "name": "python3"
  },
  "language_info": {
   "codemirror_mode": {
    "name": "ipython",
    "version": 3
   },
   "file_extension": ".py",
   "mimetype": "text/x-python",
   "name": "python",
   "nbconvert_exporter": "python",
   "pygments_lexer": "ipython3",
   "version": "3.9.12"
  }
 },
 "nbformat": 4,
 "nbformat_minor": 5
}
