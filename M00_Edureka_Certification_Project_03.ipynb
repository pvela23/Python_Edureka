{
 "cells": [
  {
   "cell_type": "markdown",
   "id": "09cf165e",
   "metadata": {},
   "source": [
    "10. Consider the following example: 12 customers performed a total of 100 searches but only a few of them performed 10 bookings in total.\n",
    "searches=100 bookings=10 customers=12\n",
    "\n",
    "The overall booking to search ratio, Ober, is 10/100 = 0.1 Using the above information/context, answer the following:\n",
    "\n",
    "• What is the average oBSR for each month of the year?\n",
    "\n",
    "• What is the average oBSR for each day of the week?\n",
    "\n",
    "• Plot a time series of oBSR on all the given dates."
   ]
  },
  {
   "cell_type": "code",
   "execution_count": 3,
   "id": "b96379e9",
   "metadata": {},
   "outputs": [],
   "source": [
    "import matplotlib.pyplot as plt\n",
    "import pandas as pd\n",
    "import seaborn as sns\n",
    "import numpy as np\n",
    "import warnings \n",
    "\n",
    "bookings = pd.read_csv('/Users/vels/Desktop/MyPy/00_Assignment/Datasets/Bookings.csv')\n",
    "sessions = pd.read_csv('/Users/vels/Desktop/MyPy/00_Assignment/Datasets/Sessions.csv')\n",
    "\n",
    "# Ignore the warnings\n",
    "warnings.filterwarnings(\"ignore\")"
   ]
  },
  {
   "cell_type": "code",
   "execution_count": 5,
   "id": "ff07dfb0",
   "metadata": {},
   "outputs": [
    {
     "data": {
      "text/html": [
       "<div>\n",
       "<style scoped>\n",
       "    .dataframe tbody tr th:only-of-type {\n",
       "        vertical-align: middle;\n",
       "    }\n",
       "\n",
       "    .dataframe tbody tr th {\n",
       "        vertical-align: top;\n",
       "    }\n",
       "\n",
       "    .dataframe thead th {\n",
       "        text-align: right;\n",
       "    }\n",
       "</style>\n",
       "<table border=\"1\" class=\"dataframe\">\n",
       "  <thead>\n",
       "    <tr style=\"text-align: right;\">\n",
       "      <th></th>\n",
       "      <th>session_id</th>\n",
       "      <th>search_id</th>\n",
       "      <th>search_time</th>\n",
       "      <th>session_starting_time</th>\n",
       "      <th>booking_id</th>\n",
       "      <th>customer_id</th>\n",
       "      <th>from_city</th>\n",
       "      <th>from_country</th>\n",
       "      <th>to_city</th>\n",
       "      <th>to_country</th>\n",
       "      <th>booking_time</th>\n",
       "      <th>device_type_used</th>\n",
       "      <th>INR_Amount</th>\n",
       "      <th>service_name</th>\n",
       "      <th>no_of_passengers</th>\n",
       "      <th>days_to_departure</th>\n",
       "      <th>distance_km</th>\n",
       "    </tr>\n",
       "  </thead>\n",
       "  <tbody>\n",
       "    <tr>\n",
       "      <th>0</th>\n",
       "      <td>session_322</td>\n",
       "      <td>search_784</td>\n",
       "      <td>2020-01-21T21:35:38.910Z</td>\n",
       "      <td>2020-01-21T21:10:12Z</td>\n",
       "      <td>NaN</td>\n",
       "      <td>NaN</td>\n",
       "      <td>NaN</td>\n",
       "      <td>NaN</td>\n",
       "      <td>NaN</td>\n",
       "      <td>NaN</td>\n",
       "      <td>NaN</td>\n",
       "      <td>NaN</td>\n",
       "      <td>NaN</td>\n",
       "      <td>NaN</td>\n",
       "      <td>NaN</td>\n",
       "      <td>NaN</td>\n",
       "      <td>NaN</td>\n",
       "    </tr>\n",
       "    <tr>\n",
       "      <th>1</th>\n",
       "      <td>session_322</td>\n",
       "      <td>search_776</td>\n",
       "      <td>2020-01-21T21:37:37.697Z</td>\n",
       "      <td>2020-01-21T21:10:12Z</td>\n",
       "      <td>NaN</td>\n",
       "      <td>NaN</td>\n",
       "      <td>NaN</td>\n",
       "      <td>NaN</td>\n",
       "      <td>NaN</td>\n",
       "      <td>NaN</td>\n",
       "      <td>NaN</td>\n",
       "      <td>NaN</td>\n",
       "      <td>NaN</td>\n",
       "      <td>NaN</td>\n",
       "      <td>NaN</td>\n",
       "      <td>NaN</td>\n",
       "      <td>NaN</td>\n",
       "    </tr>\n",
       "    <tr>\n",
       "      <th>2</th>\n",
       "      <td>session_322</td>\n",
       "      <td>search_623</td>\n",
       "      <td>2020-01-21T21:36:11.392Z</td>\n",
       "      <td>2020-01-21T21:10:12Z</td>\n",
       "      <td>NaN</td>\n",
       "      <td>NaN</td>\n",
       "      <td>NaN</td>\n",
       "      <td>NaN</td>\n",
       "      <td>NaN</td>\n",
       "      <td>NaN</td>\n",
       "      <td>NaN</td>\n",
       "      <td>NaN</td>\n",
       "      <td>NaN</td>\n",
       "      <td>NaN</td>\n",
       "      <td>NaN</td>\n",
       "      <td>NaN</td>\n",
       "      <td>NaN</td>\n",
       "    </tr>\n",
       "    <tr>\n",
       "      <th>3</th>\n",
       "      <td>session_322</td>\n",
       "      <td>search_270</td>\n",
       "      <td>2020-01-21T21:16:07.685Z</td>\n",
       "      <td>2020-01-21T21:10:12Z</td>\n",
       "      <td>NaN</td>\n",
       "      <td>NaN</td>\n",
       "      <td>NaN</td>\n",
       "      <td>NaN</td>\n",
       "      <td>NaN</td>\n",
       "      <td>NaN</td>\n",
       "      <td>NaN</td>\n",
       "      <td>NaN</td>\n",
       "      <td>NaN</td>\n",
       "      <td>NaN</td>\n",
       "      <td>NaN</td>\n",
       "      <td>NaN</td>\n",
       "      <td>NaN</td>\n",
       "    </tr>\n",
       "    <tr>\n",
       "      <th>4</th>\n",
       "      <td>session_322</td>\n",
       "      <td>search_905</td>\n",
       "      <td>2020-01-21T21:34:55.673Z</td>\n",
       "      <td>2020-01-21T21:10:12Z</td>\n",
       "      <td>NaN</td>\n",
       "      <td>NaN</td>\n",
       "      <td>NaN</td>\n",
       "      <td>NaN</td>\n",
       "      <td>NaN</td>\n",
       "      <td>NaN</td>\n",
       "      <td>NaN</td>\n",
       "      <td>NaN</td>\n",
       "      <td>NaN</td>\n",
       "      <td>NaN</td>\n",
       "      <td>NaN</td>\n",
       "      <td>NaN</td>\n",
       "      <td>NaN</td>\n",
       "    </tr>\n",
       "  </tbody>\n",
       "</table>\n",
       "</div>"
      ],
      "text/plain": [
       "    session_id   search_id               search_time session_starting_time  \\\n",
       "0  session_322  search_784  2020-01-21T21:35:38.910Z  2020-01-21T21:10:12Z   \n",
       "1  session_322  search_776  2020-01-21T21:37:37.697Z  2020-01-21T21:10:12Z   \n",
       "2  session_322  search_623  2020-01-21T21:36:11.392Z  2020-01-21T21:10:12Z   \n",
       "3  session_322  search_270  2020-01-21T21:16:07.685Z  2020-01-21T21:10:12Z   \n",
       "4  session_322  search_905  2020-01-21T21:34:55.673Z  2020-01-21T21:10:12Z   \n",
       "\n",
       "  booking_id customer_id from_city from_country to_city to_country  \\\n",
       "0        NaN         NaN       NaN          NaN     NaN        NaN   \n",
       "1        NaN         NaN       NaN          NaN     NaN        NaN   \n",
       "2        NaN         NaN       NaN          NaN     NaN        NaN   \n",
       "3        NaN         NaN       NaN          NaN     NaN        NaN   \n",
       "4        NaN         NaN       NaN          NaN     NaN        NaN   \n",
       "\n",
       "  booking_time device_type_used  INR_Amount service_name  no_of_passengers  \\\n",
       "0          NaN              NaN         NaN          NaN               NaN   \n",
       "1          NaN              NaN         NaN          NaN               NaN   \n",
       "2          NaN              NaN         NaN          NaN               NaN   \n",
       "3          NaN              NaN         NaN          NaN               NaN   \n",
       "4          NaN              NaN         NaN          NaN               NaN   \n",
       "\n",
       "   days_to_departure  distance_km  \n",
       "0                NaN          NaN  \n",
       "1                NaN          NaN  \n",
       "2                NaN          NaN  \n",
       "3                NaN          NaN  \n",
       "4                NaN          NaN  "
      ]
     },
     "execution_count": 5,
     "metadata": {},
     "output_type": "execute_result"
    }
   ],
   "source": [
    "merged_df = pd.merge(sessions, bookings,on='booking_id',how='left')\n",
    "merged_df.head()"
   ]
  },
  {
   "cell_type": "code",
   "execution_count": 10,
   "id": "90d3c710",
   "metadata": {},
   "outputs": [
    {
     "data": {
      "text/html": [
       "<div>\n",
       "<style scoped>\n",
       "    .dataframe tbody tr th:only-of-type {\n",
       "        vertical-align: middle;\n",
       "    }\n",
       "\n",
       "    .dataframe tbody tr th {\n",
       "        vertical-align: top;\n",
       "    }\n",
       "\n",
       "    .dataframe thead th {\n",
       "        text-align: right;\n",
       "    }\n",
       "</style>\n",
       "<table border=\"1\" class=\"dataframe\">\n",
       "  <thead>\n",
       "    <tr style=\"text-align: right;\">\n",
       "      <th></th>\n",
       "      <th>session_id</th>\n",
       "      <th>search_id</th>\n",
       "      <th>search_time</th>\n",
       "      <th>session_starting_time</th>\n",
       "      <th>booking_id</th>\n",
       "      <th>customer_id</th>\n",
       "      <th>from_city</th>\n",
       "      <th>from_country</th>\n",
       "      <th>to_city</th>\n",
       "      <th>to_country</th>\n",
       "      <th>booking_time</th>\n",
       "      <th>device_type_used</th>\n",
       "      <th>INR_Amount</th>\n",
       "      <th>service_name</th>\n",
       "      <th>no_of_passengers</th>\n",
       "      <th>days_to_departure</th>\n",
       "      <th>distance_km</th>\n",
       "      <th>search_date</th>\n",
       "      <th>search_day_of_week</th>\n",
       "    </tr>\n",
       "  </thead>\n",
       "  <tbody>\n",
       "    <tr>\n",
       "      <th>0</th>\n",
       "      <td>session_322</td>\n",
       "      <td>search_784</td>\n",
       "      <td>2020-01-21 21:35:38.910000+00:00</td>\n",
       "      <td>2020-01-21T21:10:12Z</td>\n",
       "      <td>NaN</td>\n",
       "      <td>NaN</td>\n",
       "      <td>NaN</td>\n",
       "      <td>NaN</td>\n",
       "      <td>NaN</td>\n",
       "      <td>NaN</td>\n",
       "      <td>NaN</td>\n",
       "      <td>NaN</td>\n",
       "      <td>NaN</td>\n",
       "      <td>NaN</td>\n",
       "      <td>NaN</td>\n",
       "      <td>NaN</td>\n",
       "      <td>NaN</td>\n",
       "      <td>2020-01-21</td>\n",
       "      <td>Tuesday</td>\n",
       "    </tr>\n",
       "    <tr>\n",
       "      <th>1</th>\n",
       "      <td>session_322</td>\n",
       "      <td>search_776</td>\n",
       "      <td>2020-01-21 21:37:37.697000+00:00</td>\n",
       "      <td>2020-01-21T21:10:12Z</td>\n",
       "      <td>NaN</td>\n",
       "      <td>NaN</td>\n",
       "      <td>NaN</td>\n",
       "      <td>NaN</td>\n",
       "      <td>NaN</td>\n",
       "      <td>NaN</td>\n",
       "      <td>NaN</td>\n",
       "      <td>NaN</td>\n",
       "      <td>NaN</td>\n",
       "      <td>NaN</td>\n",
       "      <td>NaN</td>\n",
       "      <td>NaN</td>\n",
       "      <td>NaN</td>\n",
       "      <td>2020-01-21</td>\n",
       "      <td>Tuesday</td>\n",
       "    </tr>\n",
       "    <tr>\n",
       "      <th>2</th>\n",
       "      <td>session_322</td>\n",
       "      <td>search_623</td>\n",
       "      <td>2020-01-21 21:36:11.392000+00:00</td>\n",
       "      <td>2020-01-21T21:10:12Z</td>\n",
       "      <td>NaN</td>\n",
       "      <td>NaN</td>\n",
       "      <td>NaN</td>\n",
       "      <td>NaN</td>\n",
       "      <td>NaN</td>\n",
       "      <td>NaN</td>\n",
       "      <td>NaN</td>\n",
       "      <td>NaN</td>\n",
       "      <td>NaN</td>\n",
       "      <td>NaN</td>\n",
       "      <td>NaN</td>\n",
       "      <td>NaN</td>\n",
       "      <td>NaN</td>\n",
       "      <td>2020-01-21</td>\n",
       "      <td>Tuesday</td>\n",
       "    </tr>\n",
       "    <tr>\n",
       "      <th>3</th>\n",
       "      <td>session_322</td>\n",
       "      <td>search_270</td>\n",
       "      <td>2020-01-21 21:16:07.685000+00:00</td>\n",
       "      <td>2020-01-21T21:10:12Z</td>\n",
       "      <td>NaN</td>\n",
       "      <td>NaN</td>\n",
       "      <td>NaN</td>\n",
       "      <td>NaN</td>\n",
       "      <td>NaN</td>\n",
       "      <td>NaN</td>\n",
       "      <td>NaN</td>\n",
       "      <td>NaN</td>\n",
       "      <td>NaN</td>\n",
       "      <td>NaN</td>\n",
       "      <td>NaN</td>\n",
       "      <td>NaN</td>\n",
       "      <td>NaN</td>\n",
       "      <td>2020-01-21</td>\n",
       "      <td>Tuesday</td>\n",
       "    </tr>\n",
       "    <tr>\n",
       "      <th>4</th>\n",
       "      <td>session_322</td>\n",
       "      <td>search_905</td>\n",
       "      <td>2020-01-21 21:34:55.673000+00:00</td>\n",
       "      <td>2020-01-21T21:10:12Z</td>\n",
       "      <td>NaN</td>\n",
       "      <td>NaN</td>\n",
       "      <td>NaN</td>\n",
       "      <td>NaN</td>\n",
       "      <td>NaN</td>\n",
       "      <td>NaN</td>\n",
       "      <td>NaN</td>\n",
       "      <td>NaN</td>\n",
       "      <td>NaN</td>\n",
       "      <td>NaN</td>\n",
       "      <td>NaN</td>\n",
       "      <td>NaN</td>\n",
       "      <td>NaN</td>\n",
       "      <td>2020-01-21</td>\n",
       "      <td>Tuesday</td>\n",
       "    </tr>\n",
       "  </tbody>\n",
       "</table>\n",
       "</div>"
      ],
      "text/plain": [
       "    session_id   search_id                      search_time  \\\n",
       "0  session_322  search_784 2020-01-21 21:35:38.910000+00:00   \n",
       "1  session_322  search_776 2020-01-21 21:37:37.697000+00:00   \n",
       "2  session_322  search_623 2020-01-21 21:36:11.392000+00:00   \n",
       "3  session_322  search_270 2020-01-21 21:16:07.685000+00:00   \n",
       "4  session_322  search_905 2020-01-21 21:34:55.673000+00:00   \n",
       "\n",
       "  session_starting_time booking_id customer_id from_city from_country to_city  \\\n",
       "0  2020-01-21T21:10:12Z        NaN         NaN       NaN          NaN     NaN   \n",
       "1  2020-01-21T21:10:12Z        NaN         NaN       NaN          NaN     NaN   \n",
       "2  2020-01-21T21:10:12Z        NaN         NaN       NaN          NaN     NaN   \n",
       "3  2020-01-21T21:10:12Z        NaN         NaN       NaN          NaN     NaN   \n",
       "4  2020-01-21T21:10:12Z        NaN         NaN       NaN          NaN     NaN   \n",
       "\n",
       "  to_country booking_time device_type_used  INR_Amount service_name  \\\n",
       "0        NaN          NaN              NaN         NaN          NaN   \n",
       "1        NaN          NaN              NaN         NaN          NaN   \n",
       "2        NaN          NaN              NaN         NaN          NaN   \n",
       "3        NaN          NaN              NaN         NaN          NaN   \n",
       "4        NaN          NaN              NaN         NaN          NaN   \n",
       "\n",
       "   no_of_passengers  days_to_departure  distance_km search_date  \\\n",
       "0               NaN                NaN          NaN  2020-01-21   \n",
       "1               NaN                NaN          NaN  2020-01-21   \n",
       "2               NaN                NaN          NaN  2020-01-21   \n",
       "3               NaN                NaN          NaN  2020-01-21   \n",
       "4               NaN                NaN          NaN  2020-01-21   \n",
       "\n",
       "  search_day_of_week  \n",
       "0            Tuesday  \n",
       "1            Tuesday  \n",
       "2            Tuesday  \n",
       "3            Tuesday  \n",
       "4            Tuesday  "
      ]
     },
     "execution_count": 10,
     "metadata": {},
     "output_type": "execute_result"
    }
   ],
   "source": [
    "merged_df['search_time'] = pd.to_datetime(merged_df['search_time'])\n",
    "merged_df['search_date'] = merged_df['search_time'].dt.date\n",
    "merged_df['search_day_of_week'] = merged_df['search_time'].dt.day_name()\n",
    "merged_df.head()"
   ]
  },
  {
   "cell_type": "code",
   "execution_count": 14,
   "id": "de5a2972",
   "metadata": {},
   "outputs": [
    {
     "data": {
      "text/html": [
       "<div>\n",
       "<style scoped>\n",
       "    .dataframe tbody tr th:only-of-type {\n",
       "        vertical-align: middle;\n",
       "    }\n",
       "\n",
       "    .dataframe tbody tr th {\n",
       "        vertical-align: top;\n",
       "    }\n",
       "\n",
       "    .dataframe thead th {\n",
       "        text-align: right;\n",
       "    }\n",
       "</style>\n",
       "<table border=\"1\" class=\"dataframe\">\n",
       "  <thead>\n",
       "    <tr style=\"text-align: right;\">\n",
       "      <th></th>\n",
       "      <th>date</th>\n",
       "      <th>num_bookings</th>\n",
       "      <th>num_searches</th>\n",
       "      <th>num_customers</th>\n",
       "    </tr>\n",
       "  </thead>\n",
       "  <tbody>\n",
       "    <tr>\n",
       "      <th>0</th>\n",
       "      <td>2018-09-04</td>\n",
       "      <td>1</td>\n",
       "      <td>3</td>\n",
       "      <td>1</td>\n",
       "    </tr>\n",
       "    <tr>\n",
       "      <th>1</th>\n",
       "      <td>2018-09-11</td>\n",
       "      <td>2</td>\n",
       "      <td>2</td>\n",
       "      <td>2</td>\n",
       "    </tr>\n",
       "    <tr>\n",
       "      <th>2</th>\n",
       "      <td>2018-09-21</td>\n",
       "      <td>2</td>\n",
       "      <td>5</td>\n",
       "      <td>2</td>\n",
       "    </tr>\n",
       "    <tr>\n",
       "      <th>3</th>\n",
       "      <td>2018-09-23</td>\n",
       "      <td>1</td>\n",
       "      <td>1</td>\n",
       "      <td>1</td>\n",
       "    </tr>\n",
       "    <tr>\n",
       "      <th>4</th>\n",
       "      <td>2018-09-24</td>\n",
       "      <td>1</td>\n",
       "      <td>3</td>\n",
       "      <td>1</td>\n",
       "    </tr>\n",
       "    <tr>\n",
       "      <th>...</th>\n",
       "      <td>...</td>\n",
       "      <td>...</td>\n",
       "      <td>...</td>\n",
       "      <td>...</td>\n",
       "    </tr>\n",
       "    <tr>\n",
       "      <th>258</th>\n",
       "      <td>2022-06-04</td>\n",
       "      <td>1</td>\n",
       "      <td>1</td>\n",
       "      <td>1</td>\n",
       "    </tr>\n",
       "    <tr>\n",
       "      <th>259</th>\n",
       "      <td>2022-06-29</td>\n",
       "      <td>2</td>\n",
       "      <td>12</td>\n",
       "      <td>2</td>\n",
       "    </tr>\n",
       "    <tr>\n",
       "      <th>260</th>\n",
       "      <td>2022-07-01</td>\n",
       "      <td>1</td>\n",
       "      <td>3</td>\n",
       "      <td>1</td>\n",
       "    </tr>\n",
       "    <tr>\n",
       "      <th>261</th>\n",
       "      <td>2022-07-06</td>\n",
       "      <td>1</td>\n",
       "      <td>8</td>\n",
       "      <td>1</td>\n",
       "    </tr>\n",
       "    <tr>\n",
       "      <th>262</th>\n",
       "      <td>2022-07-11</td>\n",
       "      <td>1</td>\n",
       "      <td>2</td>\n",
       "      <td>1</td>\n",
       "    </tr>\n",
       "  </tbody>\n",
       "</table>\n",
       "<p>263 rows × 4 columns</p>\n",
       "</div>"
      ],
      "text/plain": [
       "           date  num_bookings  num_searches  num_customers\n",
       "0    2018-09-04             1             3              1\n",
       "1    2018-09-11             2             2              2\n",
       "2    2018-09-21             2             5              2\n",
       "3    2018-09-23             1             1              1\n",
       "4    2018-09-24             1             3              1\n",
       "..          ...           ...           ...            ...\n",
       "258  2022-06-04             1             1              1\n",
       "259  2022-06-29             2            12              2\n",
       "260  2022-07-01             1             3              1\n",
       "261  2022-07-06             1             8              1\n",
       "262  2022-07-11             1             2              1\n",
       "\n",
       "[263 rows x 4 columns]"
      ]
     },
     "execution_count": 14,
     "metadata": {},
     "output_type": "execute_result"
    }
   ],
   "source": [
    "grouped_info = merged_df.groupby(['search_date']).agg({'booking_id':'nunique',\n",
    "                                                      'search_id':'nunique',\n",
    "                                                      'customer_id':'nunique'}).reset_index()\n",
    "grouped_info.columns=['date','num_bookings','num_searches','num_customers']\n",
    "grouped_info"
   ]
  },
  {
   "cell_type": "code",
   "execution_count": 21,
   "id": "88d2dfac",
   "metadata": {},
   "outputs": [
    {
     "data": {
      "text/html": [
       "<div>\n",
       "<style scoped>\n",
       "    .dataframe tbody tr th:only-of-type {\n",
       "        vertical-align: middle;\n",
       "    }\n",
       "\n",
       "    .dataframe tbody tr th {\n",
       "        vertical-align: top;\n",
       "    }\n",
       "\n",
       "    .dataframe thead th {\n",
       "        text-align: right;\n",
       "    }\n",
       "</style>\n",
       "<table border=\"1\" class=\"dataframe\">\n",
       "  <thead>\n",
       "    <tr style=\"text-align: right;\">\n",
       "      <th></th>\n",
       "      <th>date</th>\n",
       "      <th>num_bookings</th>\n",
       "      <th>num_searches</th>\n",
       "      <th>num_customers</th>\n",
       "      <th>oBSR</th>\n",
       "      <th>day_of_week</th>\n",
       "      <th>month</th>\n",
       "      <th>year</th>\n",
       "    </tr>\n",
       "  </thead>\n",
       "  <tbody>\n",
       "    <tr>\n",
       "      <th>0</th>\n",
       "      <td>2018-09-04</td>\n",
       "      <td>1</td>\n",
       "      <td>3</td>\n",
       "      <td>1</td>\n",
       "      <td>0.333333</td>\n",
       "      <td>Tuesday</td>\n",
       "      <td>9</td>\n",
       "      <td>2018</td>\n",
       "    </tr>\n",
       "    <tr>\n",
       "      <th>1</th>\n",
       "      <td>2018-09-11</td>\n",
       "      <td>2</td>\n",
       "      <td>2</td>\n",
       "      <td>2</td>\n",
       "      <td>1.000000</td>\n",
       "      <td>Tuesday</td>\n",
       "      <td>9</td>\n",
       "      <td>2018</td>\n",
       "    </tr>\n",
       "    <tr>\n",
       "      <th>2</th>\n",
       "      <td>2018-09-21</td>\n",
       "      <td>2</td>\n",
       "      <td>5</td>\n",
       "      <td>2</td>\n",
       "      <td>0.400000</td>\n",
       "      <td>Friday</td>\n",
       "      <td>9</td>\n",
       "      <td>2018</td>\n",
       "    </tr>\n",
       "    <tr>\n",
       "      <th>3</th>\n",
       "      <td>2018-09-23</td>\n",
       "      <td>1</td>\n",
       "      <td>1</td>\n",
       "      <td>1</td>\n",
       "      <td>1.000000</td>\n",
       "      <td>Sunday</td>\n",
       "      <td>9</td>\n",
       "      <td>2018</td>\n",
       "    </tr>\n",
       "    <tr>\n",
       "      <th>4</th>\n",
       "      <td>2018-09-24</td>\n",
       "      <td>1</td>\n",
       "      <td>3</td>\n",
       "      <td>1</td>\n",
       "      <td>0.333333</td>\n",
       "      <td>Monday</td>\n",
       "      <td>9</td>\n",
       "      <td>2018</td>\n",
       "    </tr>\n",
       "    <tr>\n",
       "      <th>...</th>\n",
       "      <td>...</td>\n",
       "      <td>...</td>\n",
       "      <td>...</td>\n",
       "      <td>...</td>\n",
       "      <td>...</td>\n",
       "      <td>...</td>\n",
       "      <td>...</td>\n",
       "      <td>...</td>\n",
       "    </tr>\n",
       "    <tr>\n",
       "      <th>258</th>\n",
       "      <td>2022-06-04</td>\n",
       "      <td>1</td>\n",
       "      <td>1</td>\n",
       "      <td>1</td>\n",
       "      <td>1.000000</td>\n",
       "      <td>Saturday</td>\n",
       "      <td>6</td>\n",
       "      <td>2022</td>\n",
       "    </tr>\n",
       "    <tr>\n",
       "      <th>259</th>\n",
       "      <td>2022-06-29</td>\n",
       "      <td>2</td>\n",
       "      <td>12</td>\n",
       "      <td>2</td>\n",
       "      <td>0.166667</td>\n",
       "      <td>Wednesday</td>\n",
       "      <td>6</td>\n",
       "      <td>2022</td>\n",
       "    </tr>\n",
       "    <tr>\n",
       "      <th>260</th>\n",
       "      <td>2022-07-01</td>\n",
       "      <td>1</td>\n",
       "      <td>3</td>\n",
       "      <td>1</td>\n",
       "      <td>0.333333</td>\n",
       "      <td>Friday</td>\n",
       "      <td>7</td>\n",
       "      <td>2022</td>\n",
       "    </tr>\n",
       "    <tr>\n",
       "      <th>261</th>\n",
       "      <td>2022-07-06</td>\n",
       "      <td>1</td>\n",
       "      <td>8</td>\n",
       "      <td>1</td>\n",
       "      <td>0.125000</td>\n",
       "      <td>Wednesday</td>\n",
       "      <td>7</td>\n",
       "      <td>2022</td>\n",
       "    </tr>\n",
       "    <tr>\n",
       "      <th>262</th>\n",
       "      <td>2022-07-11</td>\n",
       "      <td>1</td>\n",
       "      <td>2</td>\n",
       "      <td>1</td>\n",
       "      <td>0.500000</td>\n",
       "      <td>Monday</td>\n",
       "      <td>7</td>\n",
       "      <td>2022</td>\n",
       "    </tr>\n",
       "  </tbody>\n",
       "</table>\n",
       "<p>263 rows × 8 columns</p>\n",
       "</div>"
      ],
      "text/plain": [
       "          date  num_bookings  num_searches  num_customers      oBSR  \\\n",
       "0   2018-09-04             1             3              1  0.333333   \n",
       "1   2018-09-11             2             2              2  1.000000   \n",
       "2   2018-09-21             2             5              2  0.400000   \n",
       "3   2018-09-23             1             1              1  1.000000   \n",
       "4   2018-09-24             1             3              1  0.333333   \n",
       "..         ...           ...           ...            ...       ...   \n",
       "258 2022-06-04             1             1              1  1.000000   \n",
       "259 2022-06-29             2            12              2  0.166667   \n",
       "260 2022-07-01             1             3              1  0.333333   \n",
       "261 2022-07-06             1             8              1  0.125000   \n",
       "262 2022-07-11             1             2              1  0.500000   \n",
       "\n",
       "    day_of_week  month  year  \n",
       "0       Tuesday      9  2018  \n",
       "1       Tuesday      9  2018  \n",
       "2        Friday      9  2018  \n",
       "3        Sunday      9  2018  \n",
       "4        Monday      9  2018  \n",
       "..          ...    ...   ...  \n",
       "258    Saturday      6  2022  \n",
       "259   Wednesday      6  2022  \n",
       "260      Friday      7  2022  \n",
       "261   Wednesday      7  2022  \n",
       "262      Monday      7  2022  \n",
       "\n",
       "[263 rows x 8 columns]"
      ]
     },
     "execution_count": 21,
     "metadata": {},
     "output_type": "execute_result"
    }
   ],
   "source": [
    "grouped_info['oBSR'] = grouped_info['num_bookings']/grouped_info['num_searches']\n",
    "grouped_info.date = pd.to_datetime(grouped_info.date)\n",
    "grouped_info['day_of_week']=grouped_info['date'].dt.day_name()\n",
    "grouped_info['month']=grouped_info['date'].dt.month\n",
    "grouped_info['year']=grouped_info['date'].dt.year\n",
    "grouped_info"
   ]
  },
  {
   "cell_type": "code",
   "execution_count": 33,
   "id": "72771569",
   "metadata": {},
   "outputs": [
    {
     "name": "stdout",
     "output_type": "stream",
     "text": [
      "\u001b[1mAverage oBSR for each month of the year\u001b[0m:\n",
      "                 oBSR\n",
      "                mean\n",
      "year month          \n",
      "2018 9      0.524675\n",
      "     10     0.266565\n",
      "     11     0.494408\n",
      "     12     0.411765\n",
      "2019 1      0.333333\n",
      "     6      1.000000\n",
      "     7      0.268939\n",
      "     8      0.350000\n",
      "     9      0.750000\n",
      "     10     0.602561\n",
      "     11     0.674020\n",
      "     12     0.448458\n",
      "2020 1      0.351914\n",
      "     2      0.507868\n",
      "     3      0.490220\n",
      "     5      0.500000\n",
      "     6      0.333333\n",
      "     7      0.526316\n",
      "     8      0.750000\n",
      "     9      0.416667\n",
      "     10     0.608333\n",
      "     11     0.486012\n",
      "     12     0.833333\n",
      "2021 1      0.666667\n",
      "     2      0.781250\n",
      "     3      0.575000\n",
      "     4      0.439815\n",
      "     5      0.500000\n",
      "     6      0.744444\n",
      "     7      0.283333\n",
      "     8      0.438492\n",
      "     9      0.731481\n",
      "     10     0.616756\n",
      "     11     0.547972\n",
      "     12     0.467857\n",
      "2022 1      0.562500\n",
      "     2      0.528571\n",
      "     3      0.452381\n",
      "     4      0.583333\n",
      "     5      0.650000\n",
      "     6      0.722222\n",
      "     7      0.319444\n"
     ]
    }
   ],
   "source": [
    "##• What is the average oBSR for each month of the year?\n",
    "\n",
    "avg_month_of_year = grouped_info.groupby(['year','month']).agg({'oBSR':['mean']})\n",
    "print('\\033[1mAverage oBSR for each month of the year\\033[0m:\\n',avg_month_of_year)"
   ]
  },
  {
   "cell_type": "code",
   "execution_count": 35,
   "id": "d45f8a2e",
   "metadata": {},
   "outputs": [
    {
     "name": "stdout",
     "output_type": "stream",
     "text": [
      "\u001b[1mAverage oBSR for each day of the week\u001b[0m:\n",
      "                       oBSR\n",
      "                      mean\n",
      "year day_of_week          \n",
      "2018 Friday       0.316667\n",
      "     Monday       0.591398\n",
      "     Saturday     0.391486\n",
      "     Sunday       0.428571\n",
      "     Thursday     0.405409\n",
      "     Tuesday      0.344068\n",
      "     Wednesday    0.423977\n",
      "2019 Friday       0.591117\n",
      "     Monday       0.494602\n",
      "     Saturday     0.521510\n",
      "     Sunday       0.524306\n",
      "     Thursday     0.636661\n",
      "     Tuesday      0.504804\n",
      "     Wednesday    0.666667\n",
      "2020 Friday       0.405777\n",
      "     Monday       0.482955\n",
      "     Saturday     0.582251\n",
      "     Sunday       0.480159\n",
      "     Thursday     0.471429\n",
      "     Tuesday      0.631122\n",
      "     Wednesday    0.302865\n",
      "2021 Friday       0.476282\n",
      "     Monday       0.742630\n",
      "     Saturday     0.605556\n",
      "     Sunday       0.574488\n",
      "     Thursday     0.463221\n",
      "     Tuesday      0.736111\n",
      "     Wednesday    0.641667\n",
      "2022 Friday       0.666667\n",
      "     Monday       0.405208\n",
      "     Saturday     0.750000\n",
      "     Sunday       0.500000\n",
      "     Thursday     1.000000\n",
      "     Tuesday      0.351852\n",
      "     Wednesday    0.454012\n"
     ]
    }
   ],
   "source": [
    "### • What is the average oBSR for each day of the week?\n",
    "avg_day_of_the_week = grouped_info.groupby(['year','day_of_week']).agg({'oBSR':['mean']})\n",
    "print('\\033[1mAverage oBSR for each day of the week\\033[0m:\\n',avg_day_of_the_week)"
   ]
  },
  {
   "cell_type": "code",
   "execution_count": 37,
   "id": "0ff83d01",
   "metadata": {},
   "outputs": [
    {
     "data": {
      "application/vnd.plotly.v1+json": {
       "config": {
        "plotlyServerURL": "https://plot.ly"
       },
       "data": [
        {
         "hovertemplate": "date=%{x}<br>oBSR=%{y}<extra></extra>",
         "legendgroup": "",
         "line": {
          "color": "#636efa",
          "dash": "solid"
         },
         "marker": {
          "symbol": "circle"
         },
         "mode": "lines",
         "name": "",
         "orientation": "v",
         "showlegend": false,
         "type": "scatter",
         "x": [
          "2018-09-04T00:00:00",
          "2018-09-11T00:00:00",
          "2018-09-21T00:00:00",
          "2018-09-23T00:00:00",
          "2018-09-24T00:00:00",
          "2018-09-25T00:00:00",
          "2018-09-29T00:00:00",
          "2018-10-02T00:00:00",
          "2018-10-04T00:00:00",
          "2018-10-06T00:00:00",
          "2018-10-08T00:00:00",
          "2018-10-09T00:00:00",
          "2018-10-11T00:00:00",
          "2018-10-13T00:00:00",
          "2018-10-14T00:00:00",
          "2018-10-17T00:00:00",
          "2018-10-18T00:00:00",
          "2018-10-20T00:00:00",
          "2018-10-22T00:00:00",
          "2018-11-07T00:00:00",
          "2018-11-09T00:00:00",
          "2018-11-11T00:00:00",
          "2018-11-12T00:00:00",
          "2018-11-16T00:00:00",
          "2018-11-17T00:00:00",
          "2018-11-21T00:00:00",
          "2018-11-23T00:00:00",
          "2018-12-01T00:00:00",
          "2018-12-18T00:00:00",
          "2018-12-20T00:00:00",
          "2018-12-21T00:00:00",
          "2018-12-25T00:00:00",
          "2019-01-03T00:00:00",
          "2019-06-14T00:00:00",
          "2019-06-30T00:00:00",
          "2019-07-08T00:00:00",
          "2019-07-25T00:00:00",
          "2019-07-29T00:00:00",
          "2019-08-03T00:00:00",
          "2019-08-31T00:00:00",
          "2019-09-01T00:00:00",
          "2019-09-02T00:00:00",
          "2019-09-03T00:00:00",
          "2019-09-05T00:00:00",
          "2019-09-07T00:00:00",
          "2019-09-13T00:00:00",
          "2019-09-23T00:00:00",
          "2019-10-03T00:00:00",
          "2019-10-04T00:00:00",
          "2019-10-06T00:00:00",
          "2019-10-07T00:00:00",
          "2019-10-08T00:00:00",
          "2019-10-10T00:00:00",
          "2019-10-17T00:00:00",
          "2019-10-22T00:00:00",
          "2019-11-07T00:00:00",
          "2019-11-09T00:00:00",
          "2019-11-12T00:00:00",
          "2019-11-14T00:00:00",
          "2019-11-16T00:00:00",
          "2019-11-20T00:00:00",
          "2019-11-29T00:00:00",
          "2019-11-30T00:00:00",
          "2019-12-04T00:00:00",
          "2019-12-05T00:00:00",
          "2019-12-07T00:00:00",
          "2019-12-08T00:00:00",
          "2019-12-10T00:00:00",
          "2019-12-12T00:00:00",
          "2019-12-13T00:00:00",
          "2019-12-14T00:00:00",
          "2019-12-16T00:00:00",
          "2019-12-17T00:00:00",
          "2019-12-20T00:00:00",
          "2019-12-21T00:00:00",
          "2019-12-22T00:00:00",
          "2019-12-23T00:00:00",
          "2019-12-25T00:00:00",
          "2019-12-26T00:00:00",
          "2019-12-29T00:00:00",
          "2019-12-30T00:00:00",
          "2020-01-01T00:00:00",
          "2020-01-02T00:00:00",
          "2020-01-04T00:00:00",
          "2020-01-05T00:00:00",
          "2020-01-06T00:00:00",
          "2020-01-07T00:00:00",
          "2020-01-12T00:00:00",
          "2020-01-15T00:00:00",
          "2020-01-16T00:00:00",
          "2020-01-18T00:00:00",
          "2020-01-20T00:00:00",
          "2020-01-21T00:00:00",
          "2020-01-23T00:00:00",
          "2020-01-24T00:00:00",
          "2020-01-26T00:00:00",
          "2020-01-27T00:00:00",
          "2020-01-28T00:00:00",
          "2020-01-29T00:00:00",
          "2020-01-30T00:00:00",
          "2020-01-31T00:00:00",
          "2020-02-03T00:00:00",
          "2020-02-04T00:00:00",
          "2020-02-05T00:00:00",
          "2020-02-06T00:00:00",
          "2020-02-07T00:00:00",
          "2020-02-08T00:00:00",
          "2020-02-09T00:00:00",
          "2020-02-10T00:00:00",
          "2020-02-11T00:00:00",
          "2020-02-13T00:00:00",
          "2020-02-14T00:00:00",
          "2020-02-15T00:00:00",
          "2020-02-17T00:00:00",
          "2020-02-19T00:00:00",
          "2020-02-22T00:00:00",
          "2020-02-24T00:00:00",
          "2020-02-25T00:00:00",
          "2020-02-26T00:00:00",
          "2020-02-27T00:00:00",
          "2020-02-29T00:00:00",
          "2020-03-02T00:00:00",
          "2020-03-05T00:00:00",
          "2020-03-08T00:00:00",
          "2020-03-10T00:00:00",
          "2020-03-16T00:00:00",
          "2020-03-18T00:00:00",
          "2020-03-19T00:00:00",
          "2020-03-20T00:00:00",
          "2020-03-21T00:00:00",
          "2020-05-20T00:00:00",
          "2020-05-26T00:00:00",
          "2020-06-04T00:00:00",
          "2020-06-08T00:00:00",
          "2020-06-24T00:00:00",
          "2020-07-01T00:00:00",
          "2020-07-21T00:00:00",
          "2020-08-11T00:00:00",
          "2020-08-18T00:00:00",
          "2020-09-03T00:00:00",
          "2020-09-10T00:00:00",
          "2020-09-24T00:00:00",
          "2020-10-02T00:00:00",
          "2020-10-08T00:00:00",
          "2020-10-15T00:00:00",
          "2020-10-20T00:00:00",
          "2020-11-03T00:00:00",
          "2020-11-06T00:00:00",
          "2020-11-08T00:00:00",
          "2020-11-12T00:00:00",
          "2020-11-13T00:00:00",
          "2020-11-16T00:00:00",
          "2020-11-18T00:00:00",
          "2020-11-21T00:00:00",
          "2020-12-03T00:00:00",
          "2020-12-14T00:00:00",
          "2020-12-22T00:00:00",
          "2020-12-23T00:00:00",
          "2021-01-03T00:00:00",
          "2021-01-04T00:00:00",
          "2021-01-05T00:00:00",
          "2021-01-07T00:00:00",
          "2021-01-14T00:00:00",
          "2021-01-28T00:00:00",
          "2021-01-29T00:00:00",
          "2021-02-02T00:00:00",
          "2021-02-23T00:00:00",
          "2021-02-25T00:00:00",
          "2021-02-27T00:00:00",
          "2021-03-05T00:00:00",
          "2021-03-14T00:00:00",
          "2021-03-18T00:00:00",
          "2021-03-30T00:00:00",
          "2021-03-31T00:00:00",
          "2021-04-09T00:00:00",
          "2021-04-13T00:00:00",
          "2021-04-14T00:00:00",
          "2021-04-15T00:00:00",
          "2021-04-17T00:00:00",
          "2021-04-28T00:00:00",
          "2021-05-18T00:00:00",
          "2021-06-01T00:00:00",
          "2021-06-14T00:00:00",
          "2021-06-22T00:00:00",
          "2021-06-26T00:00:00",
          "2021-06-27T00:00:00",
          "2021-07-01T00:00:00",
          "2021-07-24T00:00:00",
          "2021-08-04T00:00:00",
          "2021-08-10T00:00:00",
          "2021-08-22T00:00:00",
          "2021-08-29T00:00:00",
          "2021-09-02T00:00:00",
          "2021-09-04T00:00:00",
          "2021-09-09T00:00:00",
          "2021-09-10T00:00:00",
          "2021-09-12T00:00:00",
          "2021-09-13T00:00:00",
          "2021-09-20T00:00:00",
          "2021-09-21T00:00:00",
          "2021-09-28T00:00:00",
          "2021-10-02T00:00:00",
          "2021-10-07T00:00:00",
          "2021-10-08T00:00:00",
          "2021-10-10T00:00:00",
          "2021-10-11T00:00:00",
          "2021-10-14T00:00:00",
          "2021-10-16T00:00:00",
          "2021-10-20T00:00:00",
          "2021-10-21T00:00:00",
          "2021-10-24T00:00:00",
          "2021-10-26T00:00:00",
          "2021-10-28T00:00:00",
          "2021-10-29T00:00:00",
          "2021-11-02T00:00:00",
          "2021-11-08T00:00:00",
          "2021-11-09T00:00:00",
          "2021-11-11T00:00:00",
          "2021-11-13T00:00:00",
          "2021-11-15T00:00:00",
          "2021-11-18T00:00:00",
          "2021-11-27T00:00:00",
          "2021-11-28T00:00:00",
          "2021-12-03T00:00:00",
          "2021-12-09T00:00:00",
          "2021-12-11T00:00:00",
          "2021-12-12T00:00:00",
          "2021-12-16T00:00:00",
          "2021-12-23T00:00:00",
          "2021-12-30T00:00:00",
          "2021-12-31T00:00:00",
          "2022-01-05T00:00:00",
          "2022-01-12T00:00:00",
          "2022-01-14T00:00:00",
          "2022-01-17T00:00:00",
          "2022-01-21T00:00:00",
          "2022-01-22T00:00:00",
          "2022-02-03T00:00:00",
          "2022-02-14T00:00:00",
          "2022-02-16T00:00:00",
          "2022-02-21T00:00:00",
          "2022-02-22T00:00:00",
          "2022-02-25T00:00:00",
          "2022-02-28T00:00:00",
          "2022-03-04T00:00:00",
          "2022-03-09T00:00:00",
          "2022-03-11T00:00:00",
          "2022-03-14T00:00:00",
          "2022-03-15T00:00:00",
          "2022-03-28T00:00:00",
          "2022-03-30T00:00:00",
          "2022-04-05T00:00:00",
          "2022-04-18T00:00:00",
          "2022-05-07T00:00:00",
          "2022-05-12T00:00:00",
          "2022-05-22T00:00:00",
          "2022-05-25T00:00:00",
          "2022-06-01T00:00:00",
          "2022-06-04T00:00:00",
          "2022-06-29T00:00:00",
          "2022-07-01T00:00:00",
          "2022-07-06T00:00:00",
          "2022-07-11T00:00:00"
         ],
         "xaxis": "x",
         "y": [
          0.3333333333333333,
          1,
          0.4,
          1,
          0.3333333333333333,
          0.2727272727272727,
          0.3333333333333333,
          0.07692307692307693,
          0.10714285714285714,
          0.2727272727272727,
          1,
          0.5,
          0.014492753623188406,
          0.14285714285714285,
          0.2857142857142857,
          0.16666666666666666,
          0.5,
          0.1,
          0.03225806451612903,
          1,
          0.2,
          0,
          1,
          0.25,
          1,
          0.10526315789473684,
          0.4,
          0.5,
          0.16666666666666666,
          1,
          0.3333333333333333,
          0.058823529411764705,
          0.3333333333333333,
          1,
          1,
          0.125,
          0.5,
          0.18181818181818182,
          0.2,
          0.5,
          1,
          1,
          1,
          1,
          0.16666666666666666,
          1,
          0.08333333333333333,
          1,
          0.14285714285714285,
          0.125,
          1,
          1,
          1,
          0.5,
          0.05263157894736842,
          1,
          0.5,
          0.3333333333333333,
          0.058823529411764705,
          1,
          1,
          0.5,
          1,
          1,
          1,
          0.25,
          0.1875,
          0.14285714285714285,
          0.5,
          0.15384615384615385,
          0.07692307692307693,
          0.16666666666666666,
          0.5,
          0.75,
          1,
          0.5,
          0.4,
          0,
          0.1111111111111111,
          0.3333333333333333,
          1,
          0.5,
          1,
          0.1111111111111111,
          0.3333333333333333,
          0.6666666666666666,
          0.3333333333333333,
          0.5,
          0.14285714285714285,
          0.5,
          0.14285714285714285,
          0.5,
          0.2857142857142857,
          0.3333333333333333,
          0.125,
          0.14285714285714285,
          0.5,
          0.3,
          0.25,
          0.25,
          0.12121212121212122,
          0.2727272727272727,
          0.25,
          0.2,
          1,
          0.5,
          1,
          1,
          0.3333333333333333,
          0.5,
          0.42857142857142855,
          0.5,
          0.18181818181818182,
          0.09090909090909091,
          0.06666666666666667,
          0.2222222222222222,
          1,
          1,
          0.1111111111111111,
          0.5,
          1,
          0.6666666666666666,
          0.3333333333333333,
          0.3333333333333333,
          1,
          0.18181818181818182,
          0.1111111111111111,
          0.2857142857142857,
          0.5,
          1,
          1,
          0,
          0,
          1,
          0,
          0.05263157894736842,
          1,
          0.5,
          1,
          0.5,
          0.25,
          0.5,
          0.5,
          0.3333333333333333,
          0.6,
          1,
          0.6666666666666666,
          0,
          0.5714285714285714,
          0.2,
          1,
          0.25,
          0.2,
          1,
          1,
          0.3333333333333333,
          1,
          1,
          1,
          1,
          1,
          0.5,
          0.3333333333333333,
          0.5,
          0.3333333333333333,
          1,
          1,
          0.125,
          1,
          1,
          0.5,
          0.25,
          1,
          0.125,
          0.3333333333333333,
          0.2222222222222222,
          1,
          0.5,
          0.5,
          0.08333333333333333,
          0.5,
          1,
          1,
          0.5,
          0.2222222222222222,
          1,
          0.5,
          0.06666666666666667,
          1,
          0.5,
          0.1111111111111111,
          0.14285714285714285,
          0.16666666666666666,
          1,
          1,
          0.6666666666666666,
          0.5,
          1,
          1,
          1,
          0.25,
          1,
          0.5,
          1,
          0.4,
          1,
          0.2,
          1,
          1,
          0.5,
          0.09090909090909091,
          1,
          0.25,
          0.07692307692307693,
          0.3333333333333333,
          0.14285714285714285,
          1,
          0.3333333333333333,
          0.06666666666666667,
          0.05555555555555555,
          1,
          1,
          1,
          0.2,
          0.6666666666666666,
          0.2,
          1,
          0.14285714285714285,
          0.3333333333333333,
          1,
          0.2,
          1,
          0.3333333333333333,
          0.6666666666666666,
          0.125,
          1,
          0.25,
          1,
          0.5,
          1,
          0.1,
          0.5,
          0.5,
          0.1,
          1,
          0.25,
          0.5,
          0.25,
          0.05555555555555555,
          1,
          0.1111111111111111,
          0.5,
          0.6666666666666666,
          1,
          1,
          0.5,
          0.1,
          1,
          1,
          0.16666666666666666,
          0.3333333333333333,
          0.125,
          0.5
         ],
         "yaxis": "y"
        }
       ],
       "layout": {
        "legend": {
         "tracegroupgap": 0
        },
        "template": {
         "data": {
          "bar": [
           {
            "error_x": {
             "color": "#2a3f5f"
            },
            "error_y": {
             "color": "#2a3f5f"
            },
            "marker": {
             "line": {
              "color": "#E5ECF6",
              "width": 0.5
             },
             "pattern": {
              "fillmode": "overlay",
              "size": 10,
              "solidity": 0.2
             }
            },
            "type": "bar"
           }
          ],
          "barpolar": [
           {
            "marker": {
             "line": {
              "color": "#E5ECF6",
              "width": 0.5
             },
             "pattern": {
              "fillmode": "overlay",
              "size": 10,
              "solidity": 0.2
             }
            },
            "type": "barpolar"
           }
          ],
          "carpet": [
           {
            "aaxis": {
             "endlinecolor": "#2a3f5f",
             "gridcolor": "white",
             "linecolor": "white",
             "minorgridcolor": "white",
             "startlinecolor": "#2a3f5f"
            },
            "baxis": {
             "endlinecolor": "#2a3f5f",
             "gridcolor": "white",
             "linecolor": "white",
             "minorgridcolor": "white",
             "startlinecolor": "#2a3f5f"
            },
            "type": "carpet"
           }
          ],
          "choropleth": [
           {
            "colorbar": {
             "outlinewidth": 0,
             "ticks": ""
            },
            "type": "choropleth"
           }
          ],
          "contour": [
           {
            "colorbar": {
             "outlinewidth": 0,
             "ticks": ""
            },
            "colorscale": [
             [
              0,
              "#0d0887"
             ],
             [
              0.1111111111111111,
              "#46039f"
             ],
             [
              0.2222222222222222,
              "#7201a8"
             ],
             [
              0.3333333333333333,
              "#9c179e"
             ],
             [
              0.4444444444444444,
              "#bd3786"
             ],
             [
              0.5555555555555556,
              "#d8576b"
             ],
             [
              0.6666666666666666,
              "#ed7953"
             ],
             [
              0.7777777777777778,
              "#fb9f3a"
             ],
             [
              0.8888888888888888,
              "#fdca26"
             ],
             [
              1,
              "#f0f921"
             ]
            ],
            "type": "contour"
           }
          ],
          "contourcarpet": [
           {
            "colorbar": {
             "outlinewidth": 0,
             "ticks": ""
            },
            "type": "contourcarpet"
           }
          ],
          "heatmap": [
           {
            "colorbar": {
             "outlinewidth": 0,
             "ticks": ""
            },
            "colorscale": [
             [
              0,
              "#0d0887"
             ],
             [
              0.1111111111111111,
              "#46039f"
             ],
             [
              0.2222222222222222,
              "#7201a8"
             ],
             [
              0.3333333333333333,
              "#9c179e"
             ],
             [
              0.4444444444444444,
              "#bd3786"
             ],
             [
              0.5555555555555556,
              "#d8576b"
             ],
             [
              0.6666666666666666,
              "#ed7953"
             ],
             [
              0.7777777777777778,
              "#fb9f3a"
             ],
             [
              0.8888888888888888,
              "#fdca26"
             ],
             [
              1,
              "#f0f921"
             ]
            ],
            "type": "heatmap"
           }
          ],
          "heatmapgl": [
           {
            "colorbar": {
             "outlinewidth": 0,
             "ticks": ""
            },
            "colorscale": [
             [
              0,
              "#0d0887"
             ],
             [
              0.1111111111111111,
              "#46039f"
             ],
             [
              0.2222222222222222,
              "#7201a8"
             ],
             [
              0.3333333333333333,
              "#9c179e"
             ],
             [
              0.4444444444444444,
              "#bd3786"
             ],
             [
              0.5555555555555556,
              "#d8576b"
             ],
             [
              0.6666666666666666,
              "#ed7953"
             ],
             [
              0.7777777777777778,
              "#fb9f3a"
             ],
             [
              0.8888888888888888,
              "#fdca26"
             ],
             [
              1,
              "#f0f921"
             ]
            ],
            "type": "heatmapgl"
           }
          ],
          "histogram": [
           {
            "marker": {
             "pattern": {
              "fillmode": "overlay",
              "size": 10,
              "solidity": 0.2
             }
            },
            "type": "histogram"
           }
          ],
          "histogram2d": [
           {
            "colorbar": {
             "outlinewidth": 0,
             "ticks": ""
            },
            "colorscale": [
             [
              0,
              "#0d0887"
             ],
             [
              0.1111111111111111,
              "#46039f"
             ],
             [
              0.2222222222222222,
              "#7201a8"
             ],
             [
              0.3333333333333333,
              "#9c179e"
             ],
             [
              0.4444444444444444,
              "#bd3786"
             ],
             [
              0.5555555555555556,
              "#d8576b"
             ],
             [
              0.6666666666666666,
              "#ed7953"
             ],
             [
              0.7777777777777778,
              "#fb9f3a"
             ],
             [
              0.8888888888888888,
              "#fdca26"
             ],
             [
              1,
              "#f0f921"
             ]
            ],
            "type": "histogram2d"
           }
          ],
          "histogram2dcontour": [
           {
            "colorbar": {
             "outlinewidth": 0,
             "ticks": ""
            },
            "colorscale": [
             [
              0,
              "#0d0887"
             ],
             [
              0.1111111111111111,
              "#46039f"
             ],
             [
              0.2222222222222222,
              "#7201a8"
             ],
             [
              0.3333333333333333,
              "#9c179e"
             ],
             [
              0.4444444444444444,
              "#bd3786"
             ],
             [
              0.5555555555555556,
              "#d8576b"
             ],
             [
              0.6666666666666666,
              "#ed7953"
             ],
             [
              0.7777777777777778,
              "#fb9f3a"
             ],
             [
              0.8888888888888888,
              "#fdca26"
             ],
             [
              1,
              "#f0f921"
             ]
            ],
            "type": "histogram2dcontour"
           }
          ],
          "mesh3d": [
           {
            "colorbar": {
             "outlinewidth": 0,
             "ticks": ""
            },
            "type": "mesh3d"
           }
          ],
          "parcoords": [
           {
            "line": {
             "colorbar": {
              "outlinewidth": 0,
              "ticks": ""
             }
            },
            "type": "parcoords"
           }
          ],
          "pie": [
           {
            "automargin": true,
            "type": "pie"
           }
          ],
          "scatter": [
           {
            "marker": {
             "colorbar": {
              "outlinewidth": 0,
              "ticks": ""
             }
            },
            "type": "scatter"
           }
          ],
          "scatter3d": [
           {
            "line": {
             "colorbar": {
              "outlinewidth": 0,
              "ticks": ""
             }
            },
            "marker": {
             "colorbar": {
              "outlinewidth": 0,
              "ticks": ""
             }
            },
            "type": "scatter3d"
           }
          ],
          "scattercarpet": [
           {
            "marker": {
             "colorbar": {
              "outlinewidth": 0,
              "ticks": ""
             }
            },
            "type": "scattercarpet"
           }
          ],
          "scattergeo": [
           {
            "marker": {
             "colorbar": {
              "outlinewidth": 0,
              "ticks": ""
             }
            },
            "type": "scattergeo"
           }
          ],
          "scattergl": [
           {
            "marker": {
             "colorbar": {
              "outlinewidth": 0,
              "ticks": ""
             }
            },
            "type": "scattergl"
           }
          ],
          "scattermapbox": [
           {
            "marker": {
             "colorbar": {
              "outlinewidth": 0,
              "ticks": ""
             }
            },
            "type": "scattermapbox"
           }
          ],
          "scatterpolar": [
           {
            "marker": {
             "colorbar": {
              "outlinewidth": 0,
              "ticks": ""
             }
            },
            "type": "scatterpolar"
           }
          ],
          "scatterpolargl": [
           {
            "marker": {
             "colorbar": {
              "outlinewidth": 0,
              "ticks": ""
             }
            },
            "type": "scatterpolargl"
           }
          ],
          "scatterternary": [
           {
            "marker": {
             "colorbar": {
              "outlinewidth": 0,
              "ticks": ""
             }
            },
            "type": "scatterternary"
           }
          ],
          "surface": [
           {
            "colorbar": {
             "outlinewidth": 0,
             "ticks": ""
            },
            "colorscale": [
             [
              0,
              "#0d0887"
             ],
             [
              0.1111111111111111,
              "#46039f"
             ],
             [
              0.2222222222222222,
              "#7201a8"
             ],
             [
              0.3333333333333333,
              "#9c179e"
             ],
             [
              0.4444444444444444,
              "#bd3786"
             ],
             [
              0.5555555555555556,
              "#d8576b"
             ],
             [
              0.6666666666666666,
              "#ed7953"
             ],
             [
              0.7777777777777778,
              "#fb9f3a"
             ],
             [
              0.8888888888888888,
              "#fdca26"
             ],
             [
              1,
              "#f0f921"
             ]
            ],
            "type": "surface"
           }
          ],
          "table": [
           {
            "cells": {
             "fill": {
              "color": "#EBF0F8"
             },
             "line": {
              "color": "white"
             }
            },
            "header": {
             "fill": {
              "color": "#C8D4E3"
             },
             "line": {
              "color": "white"
             }
            },
            "type": "table"
           }
          ]
         },
         "layout": {
          "annotationdefaults": {
           "arrowcolor": "#2a3f5f",
           "arrowhead": 0,
           "arrowwidth": 1
          },
          "autotypenumbers": "strict",
          "coloraxis": {
           "colorbar": {
            "outlinewidth": 0,
            "ticks": ""
           }
          },
          "colorscale": {
           "diverging": [
            [
             0,
             "#8e0152"
            ],
            [
             0.1,
             "#c51b7d"
            ],
            [
             0.2,
             "#de77ae"
            ],
            [
             0.3,
             "#f1b6da"
            ],
            [
             0.4,
             "#fde0ef"
            ],
            [
             0.5,
             "#f7f7f7"
            ],
            [
             0.6,
             "#e6f5d0"
            ],
            [
             0.7,
             "#b8e186"
            ],
            [
             0.8,
             "#7fbc41"
            ],
            [
             0.9,
             "#4d9221"
            ],
            [
             1,
             "#276419"
            ]
           ],
           "sequential": [
            [
             0,
             "#0d0887"
            ],
            [
             0.1111111111111111,
             "#46039f"
            ],
            [
             0.2222222222222222,
             "#7201a8"
            ],
            [
             0.3333333333333333,
             "#9c179e"
            ],
            [
             0.4444444444444444,
             "#bd3786"
            ],
            [
             0.5555555555555556,
             "#d8576b"
            ],
            [
             0.6666666666666666,
             "#ed7953"
            ],
            [
             0.7777777777777778,
             "#fb9f3a"
            ],
            [
             0.8888888888888888,
             "#fdca26"
            ],
            [
             1,
             "#f0f921"
            ]
           ],
           "sequentialminus": [
            [
             0,
             "#0d0887"
            ],
            [
             0.1111111111111111,
             "#46039f"
            ],
            [
             0.2222222222222222,
             "#7201a8"
            ],
            [
             0.3333333333333333,
             "#9c179e"
            ],
            [
             0.4444444444444444,
             "#bd3786"
            ],
            [
             0.5555555555555556,
             "#d8576b"
            ],
            [
             0.6666666666666666,
             "#ed7953"
            ],
            [
             0.7777777777777778,
             "#fb9f3a"
            ],
            [
             0.8888888888888888,
             "#fdca26"
            ],
            [
             1,
             "#f0f921"
            ]
           ]
          },
          "colorway": [
           "#636efa",
           "#EF553B",
           "#00cc96",
           "#ab63fa",
           "#FFA15A",
           "#19d3f3",
           "#FF6692",
           "#B6E880",
           "#FF97FF",
           "#FECB52"
          ],
          "font": {
           "color": "#2a3f5f"
          },
          "geo": {
           "bgcolor": "white",
           "lakecolor": "white",
           "landcolor": "#E5ECF6",
           "showlakes": true,
           "showland": true,
           "subunitcolor": "white"
          },
          "hoverlabel": {
           "align": "left"
          },
          "hovermode": "closest",
          "mapbox": {
           "style": "light"
          },
          "paper_bgcolor": "white",
          "plot_bgcolor": "#E5ECF6",
          "polar": {
           "angularaxis": {
            "gridcolor": "white",
            "linecolor": "white",
            "ticks": ""
           },
           "bgcolor": "#E5ECF6",
           "radialaxis": {
            "gridcolor": "white",
            "linecolor": "white",
            "ticks": ""
           }
          },
          "scene": {
           "xaxis": {
            "backgroundcolor": "#E5ECF6",
            "gridcolor": "white",
            "gridwidth": 2,
            "linecolor": "white",
            "showbackground": true,
            "ticks": "",
            "zerolinecolor": "white"
           },
           "yaxis": {
            "backgroundcolor": "#E5ECF6",
            "gridcolor": "white",
            "gridwidth": 2,
            "linecolor": "white",
            "showbackground": true,
            "ticks": "",
            "zerolinecolor": "white"
           },
           "zaxis": {
            "backgroundcolor": "#E5ECF6",
            "gridcolor": "white",
            "gridwidth": 2,
            "linecolor": "white",
            "showbackground": true,
            "ticks": "",
            "zerolinecolor": "white"
           }
          },
          "shapedefaults": {
           "line": {
            "color": "#2a3f5f"
           }
          },
          "ternary": {
           "aaxis": {
            "gridcolor": "white",
            "linecolor": "white",
            "ticks": ""
           },
           "baxis": {
            "gridcolor": "white",
            "linecolor": "white",
            "ticks": ""
           },
           "bgcolor": "#E5ECF6",
           "caxis": {
            "gridcolor": "white",
            "linecolor": "white",
            "ticks": ""
           }
          },
          "title": {
           "x": 0.05
          },
          "xaxis": {
           "automargin": true,
           "gridcolor": "white",
           "linecolor": "white",
           "ticks": "",
           "title": {
            "standoff": 15
           },
           "zerolinecolor": "white",
           "zerolinewidth": 2
          },
          "yaxis": {
           "automargin": true,
           "gridcolor": "white",
           "linecolor": "white",
           "ticks": "",
           "title": {
            "standoff": 15
           },
           "zerolinecolor": "white",
           "zerolinewidth": 2
          }
         }
        },
        "title": {
         "text": "oBSR trends"
        },
        "xaxis": {
         "anchor": "y",
         "domain": [
          0,
          1
         ],
         "title": {
          "text": "date"
         }
        },
        "yaxis": {
         "anchor": "x",
         "domain": [
          0,
          1
         ],
         "title": {
          "text": "oBSR"
         }
        }
       }
      },
      "text/html": [
       "<div>                            <div id=\"486c34a8-98fa-485c-b667-1be7a9230e00\" class=\"plotly-graph-div\" style=\"height:525px; width:100%;\"></div>            <script type=\"text/javascript\">                require([\"plotly\"], function(Plotly) {                    window.PLOTLYENV=window.PLOTLYENV || {};                                    if (document.getElementById(\"486c34a8-98fa-485c-b667-1be7a9230e00\")) {                    Plotly.newPlot(                        \"486c34a8-98fa-485c-b667-1be7a9230e00\",                        [{\"hovertemplate\":\"date=%{x}<br>oBSR=%{y}<extra></extra>\",\"legendgroup\":\"\",\"line\":{\"color\":\"#636efa\",\"dash\":\"solid\"},\"marker\":{\"symbol\":\"circle\"},\"mode\":\"lines\",\"name\":\"\",\"orientation\":\"v\",\"showlegend\":false,\"x\":[\"2018-09-04T00:00:00\",\"2018-09-11T00:00:00\",\"2018-09-21T00:00:00\",\"2018-09-23T00:00:00\",\"2018-09-24T00:00:00\",\"2018-09-25T00:00:00\",\"2018-09-29T00:00:00\",\"2018-10-02T00:00:00\",\"2018-10-04T00:00:00\",\"2018-10-06T00:00:00\",\"2018-10-08T00:00:00\",\"2018-10-09T00:00:00\",\"2018-10-11T00:00:00\",\"2018-10-13T00:00:00\",\"2018-10-14T00:00:00\",\"2018-10-17T00:00:00\",\"2018-10-18T00:00:00\",\"2018-10-20T00:00:00\",\"2018-10-22T00:00:00\",\"2018-11-07T00:00:00\",\"2018-11-09T00:00:00\",\"2018-11-11T00:00:00\",\"2018-11-12T00:00:00\",\"2018-11-16T00:00:00\",\"2018-11-17T00:00:00\",\"2018-11-21T00:00:00\",\"2018-11-23T00:00:00\",\"2018-12-01T00:00:00\",\"2018-12-18T00:00:00\",\"2018-12-20T00:00:00\",\"2018-12-21T00:00:00\",\"2018-12-25T00:00:00\",\"2019-01-03T00:00:00\",\"2019-06-14T00:00:00\",\"2019-06-30T00:00:00\",\"2019-07-08T00:00:00\",\"2019-07-25T00:00:00\",\"2019-07-29T00:00:00\",\"2019-08-03T00:00:00\",\"2019-08-31T00:00:00\",\"2019-09-01T00:00:00\",\"2019-09-02T00:00:00\",\"2019-09-03T00:00:00\",\"2019-09-05T00:00:00\",\"2019-09-07T00:00:00\",\"2019-09-13T00:00:00\",\"2019-09-23T00:00:00\",\"2019-10-03T00:00:00\",\"2019-10-04T00:00:00\",\"2019-10-06T00:00:00\",\"2019-10-07T00:00:00\",\"2019-10-08T00:00:00\",\"2019-10-10T00:00:00\",\"2019-10-17T00:00:00\",\"2019-10-22T00:00:00\",\"2019-11-07T00:00:00\",\"2019-11-09T00:00:00\",\"2019-11-12T00:00:00\",\"2019-11-14T00:00:00\",\"2019-11-16T00:00:00\",\"2019-11-20T00:00:00\",\"2019-11-29T00:00:00\",\"2019-11-30T00:00:00\",\"2019-12-04T00:00:00\",\"2019-12-05T00:00:00\",\"2019-12-07T00:00:00\",\"2019-12-08T00:00:00\",\"2019-12-10T00:00:00\",\"2019-12-12T00:00:00\",\"2019-12-13T00:00:00\",\"2019-12-14T00:00:00\",\"2019-12-16T00:00:00\",\"2019-12-17T00:00:00\",\"2019-12-20T00:00:00\",\"2019-12-21T00:00:00\",\"2019-12-22T00:00:00\",\"2019-12-23T00:00:00\",\"2019-12-25T00:00:00\",\"2019-12-26T00:00:00\",\"2019-12-29T00:00:00\",\"2019-12-30T00:00:00\",\"2020-01-01T00:00:00\",\"2020-01-02T00:00:00\",\"2020-01-04T00:00:00\",\"2020-01-05T00:00:00\",\"2020-01-06T00:00:00\",\"2020-01-07T00:00:00\",\"2020-01-12T00:00:00\",\"2020-01-15T00:00:00\",\"2020-01-16T00:00:00\",\"2020-01-18T00:00:00\",\"2020-01-20T00:00:00\",\"2020-01-21T00:00:00\",\"2020-01-23T00:00:00\",\"2020-01-24T00:00:00\",\"2020-01-26T00:00:00\",\"2020-01-27T00:00:00\",\"2020-01-28T00:00:00\",\"2020-01-29T00:00:00\",\"2020-01-30T00:00:00\",\"2020-01-31T00:00:00\",\"2020-02-03T00:00:00\",\"2020-02-04T00:00:00\",\"2020-02-05T00:00:00\",\"2020-02-06T00:00:00\",\"2020-02-07T00:00:00\",\"2020-02-08T00:00:00\",\"2020-02-09T00:00:00\",\"2020-02-10T00:00:00\",\"2020-02-11T00:00:00\",\"2020-02-13T00:00:00\",\"2020-02-14T00:00:00\",\"2020-02-15T00:00:00\",\"2020-02-17T00:00:00\",\"2020-02-19T00:00:00\",\"2020-02-22T00:00:00\",\"2020-02-24T00:00:00\",\"2020-02-25T00:00:00\",\"2020-02-26T00:00:00\",\"2020-02-27T00:00:00\",\"2020-02-29T00:00:00\",\"2020-03-02T00:00:00\",\"2020-03-05T00:00:00\",\"2020-03-08T00:00:00\",\"2020-03-10T00:00:00\",\"2020-03-16T00:00:00\",\"2020-03-18T00:00:00\",\"2020-03-19T00:00:00\",\"2020-03-20T00:00:00\",\"2020-03-21T00:00:00\",\"2020-05-20T00:00:00\",\"2020-05-26T00:00:00\",\"2020-06-04T00:00:00\",\"2020-06-08T00:00:00\",\"2020-06-24T00:00:00\",\"2020-07-01T00:00:00\",\"2020-07-21T00:00:00\",\"2020-08-11T00:00:00\",\"2020-08-18T00:00:00\",\"2020-09-03T00:00:00\",\"2020-09-10T00:00:00\",\"2020-09-24T00:00:00\",\"2020-10-02T00:00:00\",\"2020-10-08T00:00:00\",\"2020-10-15T00:00:00\",\"2020-10-20T00:00:00\",\"2020-11-03T00:00:00\",\"2020-11-06T00:00:00\",\"2020-11-08T00:00:00\",\"2020-11-12T00:00:00\",\"2020-11-13T00:00:00\",\"2020-11-16T00:00:00\",\"2020-11-18T00:00:00\",\"2020-11-21T00:00:00\",\"2020-12-03T00:00:00\",\"2020-12-14T00:00:00\",\"2020-12-22T00:00:00\",\"2020-12-23T00:00:00\",\"2021-01-03T00:00:00\",\"2021-01-04T00:00:00\",\"2021-01-05T00:00:00\",\"2021-01-07T00:00:00\",\"2021-01-14T00:00:00\",\"2021-01-28T00:00:00\",\"2021-01-29T00:00:00\",\"2021-02-02T00:00:00\",\"2021-02-23T00:00:00\",\"2021-02-25T00:00:00\",\"2021-02-27T00:00:00\",\"2021-03-05T00:00:00\",\"2021-03-14T00:00:00\",\"2021-03-18T00:00:00\",\"2021-03-30T00:00:00\",\"2021-03-31T00:00:00\",\"2021-04-09T00:00:00\",\"2021-04-13T00:00:00\",\"2021-04-14T00:00:00\",\"2021-04-15T00:00:00\",\"2021-04-17T00:00:00\",\"2021-04-28T00:00:00\",\"2021-05-18T00:00:00\",\"2021-06-01T00:00:00\",\"2021-06-14T00:00:00\",\"2021-06-22T00:00:00\",\"2021-06-26T00:00:00\",\"2021-06-27T00:00:00\",\"2021-07-01T00:00:00\",\"2021-07-24T00:00:00\",\"2021-08-04T00:00:00\",\"2021-08-10T00:00:00\",\"2021-08-22T00:00:00\",\"2021-08-29T00:00:00\",\"2021-09-02T00:00:00\",\"2021-09-04T00:00:00\",\"2021-09-09T00:00:00\",\"2021-09-10T00:00:00\",\"2021-09-12T00:00:00\",\"2021-09-13T00:00:00\",\"2021-09-20T00:00:00\",\"2021-09-21T00:00:00\",\"2021-09-28T00:00:00\",\"2021-10-02T00:00:00\",\"2021-10-07T00:00:00\",\"2021-10-08T00:00:00\",\"2021-10-10T00:00:00\",\"2021-10-11T00:00:00\",\"2021-10-14T00:00:00\",\"2021-10-16T00:00:00\",\"2021-10-20T00:00:00\",\"2021-10-21T00:00:00\",\"2021-10-24T00:00:00\",\"2021-10-26T00:00:00\",\"2021-10-28T00:00:00\",\"2021-10-29T00:00:00\",\"2021-11-02T00:00:00\",\"2021-11-08T00:00:00\",\"2021-11-09T00:00:00\",\"2021-11-11T00:00:00\",\"2021-11-13T00:00:00\",\"2021-11-15T00:00:00\",\"2021-11-18T00:00:00\",\"2021-11-27T00:00:00\",\"2021-11-28T00:00:00\",\"2021-12-03T00:00:00\",\"2021-12-09T00:00:00\",\"2021-12-11T00:00:00\",\"2021-12-12T00:00:00\",\"2021-12-16T00:00:00\",\"2021-12-23T00:00:00\",\"2021-12-30T00:00:00\",\"2021-12-31T00:00:00\",\"2022-01-05T00:00:00\",\"2022-01-12T00:00:00\",\"2022-01-14T00:00:00\",\"2022-01-17T00:00:00\",\"2022-01-21T00:00:00\",\"2022-01-22T00:00:00\",\"2022-02-03T00:00:00\",\"2022-02-14T00:00:00\",\"2022-02-16T00:00:00\",\"2022-02-21T00:00:00\",\"2022-02-22T00:00:00\",\"2022-02-25T00:00:00\",\"2022-02-28T00:00:00\",\"2022-03-04T00:00:00\",\"2022-03-09T00:00:00\",\"2022-03-11T00:00:00\",\"2022-03-14T00:00:00\",\"2022-03-15T00:00:00\",\"2022-03-28T00:00:00\",\"2022-03-30T00:00:00\",\"2022-04-05T00:00:00\",\"2022-04-18T00:00:00\",\"2022-05-07T00:00:00\",\"2022-05-12T00:00:00\",\"2022-05-22T00:00:00\",\"2022-05-25T00:00:00\",\"2022-06-01T00:00:00\",\"2022-06-04T00:00:00\",\"2022-06-29T00:00:00\",\"2022-07-01T00:00:00\",\"2022-07-06T00:00:00\",\"2022-07-11T00:00:00\"],\"xaxis\":\"x\",\"y\":[0.3333333333333333,1.0,0.4,1.0,0.3333333333333333,0.2727272727272727,0.3333333333333333,0.07692307692307693,0.10714285714285714,0.2727272727272727,1.0,0.5,0.014492753623188406,0.14285714285714285,0.2857142857142857,0.16666666666666666,0.5,0.1,0.03225806451612903,1.0,0.2,0.0,1.0,0.25,1.0,0.10526315789473684,0.4,0.5,0.16666666666666666,1.0,0.3333333333333333,0.058823529411764705,0.3333333333333333,1.0,1.0,0.125,0.5,0.18181818181818182,0.2,0.5,1.0,1.0,1.0,1.0,0.16666666666666666,1.0,0.08333333333333333,1.0,0.14285714285714285,0.125,1.0,1.0,1.0,0.5,0.05263157894736842,1.0,0.5,0.3333333333333333,0.058823529411764705,1.0,1.0,0.5,1.0,1.0,1.0,0.25,0.1875,0.14285714285714285,0.5,0.15384615384615385,0.07692307692307693,0.16666666666666666,0.5,0.75,1.0,0.5,0.4,0.0,0.1111111111111111,0.3333333333333333,1.0,0.5,1.0,0.1111111111111111,0.3333333333333333,0.6666666666666666,0.3333333333333333,0.5,0.14285714285714285,0.5,0.14285714285714285,0.5,0.2857142857142857,0.3333333333333333,0.125,0.14285714285714285,0.5,0.3,0.25,0.25,0.12121212121212122,0.2727272727272727,0.25,0.2,1.0,0.5,1.0,1.0,0.3333333333333333,0.5,0.42857142857142855,0.5,0.18181818181818182,0.09090909090909091,0.06666666666666667,0.2222222222222222,1.0,1.0,0.1111111111111111,0.5,1.0,0.6666666666666666,0.3333333333333333,0.3333333333333333,1.0,0.18181818181818182,0.1111111111111111,0.2857142857142857,0.5,1.0,1.0,0.0,0.0,1.0,0.0,0.05263157894736842,1.0,0.5,1.0,0.5,0.25,0.5,0.5,0.3333333333333333,0.6,1.0,0.6666666666666666,0.0,0.5714285714285714,0.2,1.0,0.25,0.2,1.0,1.0,0.3333333333333333,1.0,1.0,1.0,1.0,1.0,0.5,0.3333333333333333,0.5,0.3333333333333333,1.0,1.0,0.125,1.0,1.0,0.5,0.25,1.0,0.125,0.3333333333333333,0.2222222222222222,1.0,0.5,0.5,0.08333333333333333,0.5,1.0,1.0,0.5,0.2222222222222222,1.0,0.5,0.06666666666666667,1.0,0.5,0.1111111111111111,0.14285714285714285,0.16666666666666666,1.0,1.0,0.6666666666666666,0.5,1.0,1.0,1.0,0.25,1.0,0.5,1.0,0.4,1.0,0.2,1.0,1.0,0.5,0.09090909090909091,1.0,0.25,0.07692307692307693,0.3333333333333333,0.14285714285714285,1.0,0.3333333333333333,0.06666666666666667,0.05555555555555555,1.0,1.0,1.0,0.2,0.6666666666666666,0.2,1.0,0.14285714285714285,0.3333333333333333,1.0,0.2,1.0,0.3333333333333333,0.6666666666666666,0.125,1.0,0.25,1.0,0.5,1.0,0.1,0.5,0.5,0.1,1.0,0.25,0.5,0.25,0.05555555555555555,1.0,0.1111111111111111,0.5,0.6666666666666666,1.0,1.0,0.5,0.1,1.0,1.0,0.16666666666666666,0.3333333333333333,0.125,0.5],\"yaxis\":\"y\",\"type\":\"scatter\"}],                        {\"template\":{\"data\":{\"bar\":[{\"error_x\":{\"color\":\"#2a3f5f\"},\"error_y\":{\"color\":\"#2a3f5f\"},\"marker\":{\"line\":{\"color\":\"#E5ECF6\",\"width\":0.5},\"pattern\":{\"fillmode\":\"overlay\",\"size\":10,\"solidity\":0.2}},\"type\":\"bar\"}],\"barpolar\":[{\"marker\":{\"line\":{\"color\":\"#E5ECF6\",\"width\":0.5},\"pattern\":{\"fillmode\":\"overlay\",\"size\":10,\"solidity\":0.2}},\"type\":\"barpolar\"}],\"carpet\":[{\"aaxis\":{\"endlinecolor\":\"#2a3f5f\",\"gridcolor\":\"white\",\"linecolor\":\"white\",\"minorgridcolor\":\"white\",\"startlinecolor\":\"#2a3f5f\"},\"baxis\":{\"endlinecolor\":\"#2a3f5f\",\"gridcolor\":\"white\",\"linecolor\":\"white\",\"minorgridcolor\":\"white\",\"startlinecolor\":\"#2a3f5f\"},\"type\":\"carpet\"}],\"choropleth\":[{\"colorbar\":{\"outlinewidth\":0,\"ticks\":\"\"},\"type\":\"choropleth\"}],\"contour\":[{\"colorbar\":{\"outlinewidth\":0,\"ticks\":\"\"},\"colorscale\":[[0.0,\"#0d0887\"],[0.1111111111111111,\"#46039f\"],[0.2222222222222222,\"#7201a8\"],[0.3333333333333333,\"#9c179e\"],[0.4444444444444444,\"#bd3786\"],[0.5555555555555556,\"#d8576b\"],[0.6666666666666666,\"#ed7953\"],[0.7777777777777778,\"#fb9f3a\"],[0.8888888888888888,\"#fdca26\"],[1.0,\"#f0f921\"]],\"type\":\"contour\"}],\"contourcarpet\":[{\"colorbar\":{\"outlinewidth\":0,\"ticks\":\"\"},\"type\":\"contourcarpet\"}],\"heatmap\":[{\"colorbar\":{\"outlinewidth\":0,\"ticks\":\"\"},\"colorscale\":[[0.0,\"#0d0887\"],[0.1111111111111111,\"#46039f\"],[0.2222222222222222,\"#7201a8\"],[0.3333333333333333,\"#9c179e\"],[0.4444444444444444,\"#bd3786\"],[0.5555555555555556,\"#d8576b\"],[0.6666666666666666,\"#ed7953\"],[0.7777777777777778,\"#fb9f3a\"],[0.8888888888888888,\"#fdca26\"],[1.0,\"#f0f921\"]],\"type\":\"heatmap\"}],\"heatmapgl\":[{\"colorbar\":{\"outlinewidth\":0,\"ticks\":\"\"},\"colorscale\":[[0.0,\"#0d0887\"],[0.1111111111111111,\"#46039f\"],[0.2222222222222222,\"#7201a8\"],[0.3333333333333333,\"#9c179e\"],[0.4444444444444444,\"#bd3786\"],[0.5555555555555556,\"#d8576b\"],[0.6666666666666666,\"#ed7953\"],[0.7777777777777778,\"#fb9f3a\"],[0.8888888888888888,\"#fdca26\"],[1.0,\"#f0f921\"]],\"type\":\"heatmapgl\"}],\"histogram\":[{\"marker\":{\"pattern\":{\"fillmode\":\"overlay\",\"size\":10,\"solidity\":0.2}},\"type\":\"histogram\"}],\"histogram2d\":[{\"colorbar\":{\"outlinewidth\":0,\"ticks\":\"\"},\"colorscale\":[[0.0,\"#0d0887\"],[0.1111111111111111,\"#46039f\"],[0.2222222222222222,\"#7201a8\"],[0.3333333333333333,\"#9c179e\"],[0.4444444444444444,\"#bd3786\"],[0.5555555555555556,\"#d8576b\"],[0.6666666666666666,\"#ed7953\"],[0.7777777777777778,\"#fb9f3a\"],[0.8888888888888888,\"#fdca26\"],[1.0,\"#f0f921\"]],\"type\":\"histogram2d\"}],\"histogram2dcontour\":[{\"colorbar\":{\"outlinewidth\":0,\"ticks\":\"\"},\"colorscale\":[[0.0,\"#0d0887\"],[0.1111111111111111,\"#46039f\"],[0.2222222222222222,\"#7201a8\"],[0.3333333333333333,\"#9c179e\"],[0.4444444444444444,\"#bd3786\"],[0.5555555555555556,\"#d8576b\"],[0.6666666666666666,\"#ed7953\"],[0.7777777777777778,\"#fb9f3a\"],[0.8888888888888888,\"#fdca26\"],[1.0,\"#f0f921\"]],\"type\":\"histogram2dcontour\"}],\"mesh3d\":[{\"colorbar\":{\"outlinewidth\":0,\"ticks\":\"\"},\"type\":\"mesh3d\"}],\"parcoords\":[{\"line\":{\"colorbar\":{\"outlinewidth\":0,\"ticks\":\"\"}},\"type\":\"parcoords\"}],\"pie\":[{\"automargin\":true,\"type\":\"pie\"}],\"scatter\":[{\"marker\":{\"colorbar\":{\"outlinewidth\":0,\"ticks\":\"\"}},\"type\":\"scatter\"}],\"scatter3d\":[{\"line\":{\"colorbar\":{\"outlinewidth\":0,\"ticks\":\"\"}},\"marker\":{\"colorbar\":{\"outlinewidth\":0,\"ticks\":\"\"}},\"type\":\"scatter3d\"}],\"scattercarpet\":[{\"marker\":{\"colorbar\":{\"outlinewidth\":0,\"ticks\":\"\"}},\"type\":\"scattercarpet\"}],\"scattergeo\":[{\"marker\":{\"colorbar\":{\"outlinewidth\":0,\"ticks\":\"\"}},\"type\":\"scattergeo\"}],\"scattergl\":[{\"marker\":{\"colorbar\":{\"outlinewidth\":0,\"ticks\":\"\"}},\"type\":\"scattergl\"}],\"scattermapbox\":[{\"marker\":{\"colorbar\":{\"outlinewidth\":0,\"ticks\":\"\"}},\"type\":\"scattermapbox\"}],\"scatterpolar\":[{\"marker\":{\"colorbar\":{\"outlinewidth\":0,\"ticks\":\"\"}},\"type\":\"scatterpolar\"}],\"scatterpolargl\":[{\"marker\":{\"colorbar\":{\"outlinewidth\":0,\"ticks\":\"\"}},\"type\":\"scatterpolargl\"}],\"scatterternary\":[{\"marker\":{\"colorbar\":{\"outlinewidth\":0,\"ticks\":\"\"}},\"type\":\"scatterternary\"}],\"surface\":[{\"colorbar\":{\"outlinewidth\":0,\"ticks\":\"\"},\"colorscale\":[[0.0,\"#0d0887\"],[0.1111111111111111,\"#46039f\"],[0.2222222222222222,\"#7201a8\"],[0.3333333333333333,\"#9c179e\"],[0.4444444444444444,\"#bd3786\"],[0.5555555555555556,\"#d8576b\"],[0.6666666666666666,\"#ed7953\"],[0.7777777777777778,\"#fb9f3a\"],[0.8888888888888888,\"#fdca26\"],[1.0,\"#f0f921\"]],\"type\":\"surface\"}],\"table\":[{\"cells\":{\"fill\":{\"color\":\"#EBF0F8\"},\"line\":{\"color\":\"white\"}},\"header\":{\"fill\":{\"color\":\"#C8D4E3\"},\"line\":{\"color\":\"white\"}},\"type\":\"table\"}]},\"layout\":{\"annotationdefaults\":{\"arrowcolor\":\"#2a3f5f\",\"arrowhead\":0,\"arrowwidth\":1},\"autotypenumbers\":\"strict\",\"coloraxis\":{\"colorbar\":{\"outlinewidth\":0,\"ticks\":\"\"}},\"colorscale\":{\"diverging\":[[0,\"#8e0152\"],[0.1,\"#c51b7d\"],[0.2,\"#de77ae\"],[0.3,\"#f1b6da\"],[0.4,\"#fde0ef\"],[0.5,\"#f7f7f7\"],[0.6,\"#e6f5d0\"],[0.7,\"#b8e186\"],[0.8,\"#7fbc41\"],[0.9,\"#4d9221\"],[1,\"#276419\"]],\"sequential\":[[0.0,\"#0d0887\"],[0.1111111111111111,\"#46039f\"],[0.2222222222222222,\"#7201a8\"],[0.3333333333333333,\"#9c179e\"],[0.4444444444444444,\"#bd3786\"],[0.5555555555555556,\"#d8576b\"],[0.6666666666666666,\"#ed7953\"],[0.7777777777777778,\"#fb9f3a\"],[0.8888888888888888,\"#fdca26\"],[1.0,\"#f0f921\"]],\"sequentialminus\":[[0.0,\"#0d0887\"],[0.1111111111111111,\"#46039f\"],[0.2222222222222222,\"#7201a8\"],[0.3333333333333333,\"#9c179e\"],[0.4444444444444444,\"#bd3786\"],[0.5555555555555556,\"#d8576b\"],[0.6666666666666666,\"#ed7953\"],[0.7777777777777778,\"#fb9f3a\"],[0.8888888888888888,\"#fdca26\"],[1.0,\"#f0f921\"]]},\"colorway\":[\"#636efa\",\"#EF553B\",\"#00cc96\",\"#ab63fa\",\"#FFA15A\",\"#19d3f3\",\"#FF6692\",\"#B6E880\",\"#FF97FF\",\"#FECB52\"],\"font\":{\"color\":\"#2a3f5f\"},\"geo\":{\"bgcolor\":\"white\",\"lakecolor\":\"white\",\"landcolor\":\"#E5ECF6\",\"showlakes\":true,\"showland\":true,\"subunitcolor\":\"white\"},\"hoverlabel\":{\"align\":\"left\"},\"hovermode\":\"closest\",\"mapbox\":{\"style\":\"light\"},\"paper_bgcolor\":\"white\",\"plot_bgcolor\":\"#E5ECF6\",\"polar\":{\"angularaxis\":{\"gridcolor\":\"white\",\"linecolor\":\"white\",\"ticks\":\"\"},\"bgcolor\":\"#E5ECF6\",\"radialaxis\":{\"gridcolor\":\"white\",\"linecolor\":\"white\",\"ticks\":\"\"}},\"scene\":{\"xaxis\":{\"backgroundcolor\":\"#E5ECF6\",\"gridcolor\":\"white\",\"gridwidth\":2,\"linecolor\":\"white\",\"showbackground\":true,\"ticks\":\"\",\"zerolinecolor\":\"white\"},\"yaxis\":{\"backgroundcolor\":\"#E5ECF6\",\"gridcolor\":\"white\",\"gridwidth\":2,\"linecolor\":\"white\",\"showbackground\":true,\"ticks\":\"\",\"zerolinecolor\":\"white\"},\"zaxis\":{\"backgroundcolor\":\"#E5ECF6\",\"gridcolor\":\"white\",\"gridwidth\":2,\"linecolor\":\"white\",\"showbackground\":true,\"ticks\":\"\",\"zerolinecolor\":\"white\"}},\"shapedefaults\":{\"line\":{\"color\":\"#2a3f5f\"}},\"ternary\":{\"aaxis\":{\"gridcolor\":\"white\",\"linecolor\":\"white\",\"ticks\":\"\"},\"baxis\":{\"gridcolor\":\"white\",\"linecolor\":\"white\",\"ticks\":\"\"},\"bgcolor\":\"#E5ECF6\",\"caxis\":{\"gridcolor\":\"white\",\"linecolor\":\"white\",\"ticks\":\"\"}},\"title\":{\"x\":0.05},\"xaxis\":{\"automargin\":true,\"gridcolor\":\"white\",\"linecolor\":\"white\",\"ticks\":\"\",\"title\":{\"standoff\":15},\"zerolinecolor\":\"white\",\"zerolinewidth\":2},\"yaxis\":{\"automargin\":true,\"gridcolor\":\"white\",\"linecolor\":\"white\",\"ticks\":\"\",\"title\":{\"standoff\":15},\"zerolinecolor\":\"white\",\"zerolinewidth\":2}}},\"xaxis\":{\"anchor\":\"y\",\"domain\":[0.0,1.0],\"title\":{\"text\":\"date\"}},\"yaxis\":{\"anchor\":\"x\",\"domain\":[0.0,1.0],\"title\":{\"text\":\"oBSR\"}},\"legend\":{\"tracegroupgap\":0},\"title\":{\"text\":\"oBSR trends\"}},                        {\"responsive\": true}                    ).then(function(){\n",
       "                            \n",
       "var gd = document.getElementById('486c34a8-98fa-485c-b667-1be7a9230e00');\n",
       "var x = new MutationObserver(function (mutations, observer) {{\n",
       "        var display = window.getComputedStyle(gd).display;\n",
       "        if (!display || display === 'none') {{\n",
       "            console.log([gd, 'removed!']);\n",
       "            Plotly.purge(gd);\n",
       "            observer.disconnect();\n",
       "        }}\n",
       "}});\n",
       "\n",
       "// Listen for the removal of the full notebook cells\n",
       "var notebookContainer = gd.closest('#notebook-container');\n",
       "if (notebookContainer) {{\n",
       "    x.observe(notebookContainer, {childList: true});\n",
       "}}\n",
       "\n",
       "// Listen for the clearing of the current output cell\n",
       "var outputEl = gd.closest('.output');\n",
       "if (outputEl) {{\n",
       "    x.observe(outputEl, {childList: true});\n",
       "}}\n",
       "\n",
       "                        })                };                });            </script>        </div>"
      ]
     },
     "metadata": {},
     "output_type": "display_data"
    }
   ],
   "source": [
    "### • Plot a time series of oBSR on all the given dates.\n",
    "import plotly.express as px\n",
    "\n",
    "fig = px.line(grouped_info,x='date',y='oBSR',title='oBSR trends')\n",
    "fig.show()"
   ]
  }
 ],
 "metadata": {
  "kernelspec": {
   "display_name": "Python 3 (ipykernel)",
   "language": "python",
   "name": "python3"
  },
  "language_info": {
   "codemirror_mode": {
    "name": "ipython",
    "version": 3
   },
   "file_extension": ".py",
   "mimetype": "text/x-python",
   "name": "python",
   "nbconvert_exporter": "python",
   "pygments_lexer": "ipython3",
   "version": "3.9.12"
  }
 },
 "nbformat": 4,
 "nbformat_minor": 5
}
