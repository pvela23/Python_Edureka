{
 "cells": [
  {
   "cell_type": "markdown",
   "id": "3a25edf2",
   "metadata": {},
   "source": [
    "17. Case Study:\n",
    "\n",
    "Domain: E-Commerce\n",
    "\n",
    "Focus: Optimization\n",
    "\n",
    "Business challenge/requirement\n",
    "GoodsKart—the largest e-commerce company in Indonesia, with revenue of $2B+ has acquired another e-commerce company FairDeal. FairDeal has its own IT system to maintain the records of customers, sales, and so on. For ease of maintenance and cost savings, GoodsKart is integrating customer databases of both organizations hence customer data of FairDeal must be converted into GoodsKart customer data format.\n",
    "Key issues\n",
    "GoodsKart customer data has more fields than in FairDeal customer data. Hence FairDeal data needs to be split and stored in GoodsKart Customer Object-Oriented Data Structure.\n",
    "\n",
    "Considerations\n",
    "The system should convert the data at run time.\n",
    "\n",
    "Data volume\n",
    "- NA\n",
    "\n",
    "Additional information\n",
    "- NA\n",
    "\n",
    "Business benefits\n",
    "GoodsKart can eventually restructure the IT systems of FairDeal and reduce its cost by 20-30%\n",
    "\n",
    "Approach to Solve\n",
    "You must use the fundamentals of Python taught in Module 3.\n",
    "1. Read FairDealCustomerData.csv\n",
    "2. Name field contains full name – use a regular expression to separate title, first name, and last name\n",
    "3. Store the data in Customer Class\n",
    "4. Create Custom Exception – CustomerNotAllowedException\n",
    "5. Pass a customer to function \"create order\" and throw CustomerNotAllowedException in case of blacklisted value is 1\n",
    "\n",
    "Enhancements for code\n",
    "You can try these enhancements in code.\n",
    "1. Change function createOrder to take productname and product code as input\n",
    "2. Create Class Order\n",
    "Return object of type Order in case customer is eligible."
   ]
  },
  {
   "cell_type": "code",
   "execution_count": 4,
   "id": "5b0e5fd8",
   "metadata": {},
   "outputs": [
    {
     "name": "stdout",
     "output_type": "stream",
     "text": [
      "\u001b[1;31;47m CustomerNotAllowedException because blacklisted value is 0\n"
     ]
    }
   ],
   "source": [
    "import re\n",
    "data_loc = '/Users/vels/Desktop/MyPy/Assignment'\n",
    "file_name = 'FairDealCustomerData.csv'\n",
    "\n",
    "class CustomerNotAllowedException(Exception):\n",
    "  pass\n",
    "\n",
    "class Customer:\n",
    "  def __init__(self, last_name, title, first_name, blacklisted):\n",
    "    self.last_name = last_name\n",
    "    self.title = title\n",
    "    self.first_name = first_name\n",
    "    self.blacklisted = blacklisted\n",
    "\n",
    "fileObject = open(f\"{data_loc}/{file_name}\", 'r')\n",
    "fileContent = fileObject.read()\n",
    "records = fileContent.split('\\n')[:-1]\n",
    "p_ln = re.compile(r'[A-Za-z]+,')\n",
    "p_ti = re.compile(r',\\s[A-Za-z]+\\.')\n",
    "p_fn = re.compile(r'\\.[\\sA-Za-z/]+\\,')\n",
    "p_fl = re.compile(r'\\d')\n",
    "\n",
    "def createOrder(cust):\n",
    "  try:\n",
    "    if cust.blacklisted == 0:\n",
    "      raise CustomerNotAllowedException(cust.blacklisted)\n",
    "    else:\n",
    "      pass\n",
    "  except CustomerNotAllowedException as err:\n",
    "    print(f\"\\033[1;31;47m CustomerNotAllowedException because blacklisted value is {err}\")\n",
    "\n",
    "def customerCreate(a):\n",
    "  last_name = re.findall(p_ln, a)[0][:-2]\n",
    "  title = re.findall(p_ti, a)[0][2:-1]\n",
    "  first_name = re.findall(p_fn, a)[0][2:-2]\n",
    "  flag = int(re.findall(p_fl,a)[0])\n",
    "  return Customer(last_name, title, first_name, flag)\n",
    "  \n",
    "\n",
    "customerInput = [customerCreate(x) for x in records]\n",
    "\n",
    "cust = customerCreate(records[5])\n",
    "createOrder(cust)"
   ]
  }
 ],
 "metadata": {
  "kernelspec": {
   "display_name": "Python 3 (ipykernel)",
   "language": "python",
   "name": "python3"
  },
  "language_info": {
   "codemirror_mode": {
    "name": "ipython",
    "version": 3
   },
   "file_extension": ".py",
   "mimetype": "text/x-python",
   "name": "python",
   "nbconvert_exporter": "python",
   "pygments_lexer": "ipython3",
   "version": "3.9.12"
  }
 },
 "nbformat": 4,
 "nbformat_minor": 5
}
