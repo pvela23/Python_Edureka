{
 "cells": [
  {
   "cell_type": "markdown",
   "id": "5ce4772d",
   "metadata": {},
   "source": [
    "#### 1. Create a dog object that will inherit all the variables and methods of the parent class Animal and display it."
   ]
  },
  {
   "cell_type": "code",
   "execution_count": null,
   "id": "a0cc1a1d",
   "metadata": {},
   "outputs": [],
   "source": [
    "class Animal():\n",
    "    def __init__(self,name,age,breed):\n",
    "        self.name = name\n",
    "        self.age = age\n",
    "        self.breed = breed\n",
    "        \n",
    "    def icanspeak(self):\n",
    "        print(\"Hi. I am\",self.name,\"I am a\",self.age,\"year old\", self.breed)\n",
    "        \n",
    "\n",
    "class Dog(Animal):\n",
    "    def __init__(self,name,age,breed):\n",
    "        self.name = name\n",
    "        self.age = age\n",
    "        self.type = \"dog\"\n",
    "        self.breed = breed\n",
    "        \n",
    "tim = Dog(\"Tim\", 5,\"Daberman\")\n",
    "tim.icanspeak()"
   ]
  },
  {
   "cell_type": "markdown",
   "id": "1d1370da",
   "metadata": {},
   "source": [
    "#### 2.Demonstrate the working of Polymorphism by creating two classes - Car and Bike. Display the information like name, color, and number of wheels."
   ]
  },
  {
   "cell_type": "code",
   "execution_count": null,
   "id": "0721dabb",
   "metadata": {},
   "outputs": [],
   "source": [
    "## Polymorphism\n",
    "class Car:\n",
    "    def __init__(self, name, color, wheels):\n",
    "        self.name = name\n",
    "        self.color = color\n",
    "        self.wheels = wheels\n",
    "    def info(self):\n",
    "        print(f\"Car brand is {self.name}. It has {self.wheels} wheels and in {self.color} color\")\n",
    "class Bicycle:\n",
    "    def __init__(self, name, color, wheels):\n",
    "        self.name = name\n",
    "        self.color = color\n",
    "        self.wheels = wheels\n",
    "    def info(self):\n",
    "        print(f\"Bike brand is {self.name}. It has {self.wheels} wheels and in {self.color} color\")\n",
    "        \n",
    "car1 = Car(\"BMW\", \"Blue\", 4)\n",
    "bicycle1 = Bicycle(\"Hercules\", \"Black\", 2)\n",
    "for vehicle in (car1, bicycle1):\n",
    "    vehicle.info()\n"
   ]
  },
  {
   "cell_type": "markdown",
   "id": "9079518c",
   "metadata": {},
   "source": [
    "#### 3. Create a list of tuples containing the 5 planets of our solar system along with their moons as- earth having 1 moon, Jupiter having 79 moons, Saturn having 82 moons, Uranus having 27 moons and Neptune having 14 moons. Sort the list according to the ascending number of moons along with the names of planet using Lambda function. Display both original and sorted list."
   ]
  },
  {
   "cell_type": "code",
   "execution_count": null,
   "id": "10ff3549",
   "metadata": {},
   "outputs": [],
   "source": [
    "# Tuples of my Planets\n",
    "planets = [(\"Earth\", 1),(\"Jupiter\",79),(\"Saturn\",82), (\"Uranus\",27), (\"Neptune\",14)]\n",
    "\n",
    "newList = sorted(planets, key = lambda x : x[1],reverse=False)\n",
    "print(\"Original List: \", planets)\n",
    "print(\"\\nSorted List (Asc): \",newList)\n",
    "\n",
    "newList1 = sorted(planets, key = lambda x : x[1],reverse=True)\n",
    "print(\"\\nSorted List (Des): \",newList1)\n"
   ]
  },
  {
   "cell_type": "markdown",
   "id": "14a97516",
   "metadata": {},
   "source": [
    "#### 4. Create two functions - fillup and use, which uses a global variable as tank. Use the global variable in both the functions to return the quantity of fuel present in the tank after filling up the tank and after using the fuel of the tank. Show the working of two functions only. It is not necessary to display the outputs."
   ]
  },
  {
   "cell_type": "code",
   "execution_count": null,
   "id": "ab6fecb1",
   "metadata": {},
   "outputs": [],
   "source": [
    "tank = 15\n",
    "Perf = 300\n",
    "\n",
    "def fillup(miles):\n",
    "    mileage = miles/tank\n",
    "    return(mileage)\n",
    "    \n",
    "def use(miles):\n",
    "    usage = miles/tank\n",
    "    usage1 = tank - usage\n",
    "    return(usage1)\n",
    "\n",
    "ans = fillup(200)\n",
    "print(f\"You need to fillup {ans} gallons of gas\")\n",
    "ans1 = use(200)\n",
    "print(f\"You have used {ans1} gallons of gas\")\n"
   ]
  },
  {
   "cell_type": "markdown",
   "id": "84ad7430",
   "metadata": {},
   "source": [
    "#### 5. Write a program to depict the use of multiple inheritance. The program should contain 4 classes - class 4 should inherit from class 2 and class 3. Similarly, class 2 should inherit from class 1. Class 3 should inherit from class 1. Each class should have its own print statement."
   ]
  },
  {
   "cell_type": "code",
   "execution_count": null,
   "id": "d60909cb",
   "metadata": {},
   "outputs": [],
   "source": [
    "class a1():\n",
    "    def __init__(self,):\n",
    "        print('This is A1 constructor')\n",
    "              \n",
    "    def a1_method_1(self):\n",
    "        print('This is the method from A1')\n",
    "              \n",
    "class a2(a1):\n",
    "    def __init__(self):\n",
    "        print('This is A2 constructor')\n",
    "    def a2_method_1(self):\n",
    "        print('This is the method from A2')\n",
    "              \n",
    "class a3(a1):\n",
    "    def __init__(self):\n",
    "        print('This is A3 constructor')\n",
    "    def a3_method_1(self):\n",
    "        print('This is the method from A3')\n",
    "\n",
    "class a4(a2, a3):\n",
    "    def __init__(self):\n",
    "        print('This is A4 constructor')\n",
    "    def a4_method_1(self):\n",
    "        print('This is the method from A4')\n",
    "\n",
    "\n",
    "a4_obj = a4()\n",
    "a4_obj.a4_method_1()\n",
    "a4_obj.a3_method_1()\n",
    "\n",
    "a2_obj = a2()\n",
    "a2_obj.a2_method_1()\n",
    "a2_obj.a1_method_1()"
   ]
  },
  {
   "cell_type": "markdown",
   "id": "ca94672c",
   "metadata": {},
   "source": [
    "#### 6. Use Getter and Setter method to set the name and age of a person. Moreover, get the name and age of the same person."
   ]
  },
  {
   "cell_type": "code",
   "execution_count": 13,
   "id": "343352c0",
   "metadata": {},
   "outputs": [
    {
     "name": "stdout",
     "output_type": "stream",
     "text": [
      "('MSD', 41)\n",
      "('Rajini', 70)\n",
      "Tom 60\n"
     ]
    }
   ],
   "source": [
    "class getset:\n",
    "    \n",
    "    def __init__(self,name, age):\n",
    "        self.name = name\n",
    "        self.age = age\n",
    "    \n",
    "    def set_name(self,name, age):\n",
    "        self.name=name\n",
    "        self.age = age\n",
    "    \n",
    "    def get_name(self):\n",
    "        return(self.name, self.age)\n",
    "    \n",
    "    vp = property(get_name, set_name)\n",
    "\n",
    "ob=getset(\"MSD\",41)\n",
    "print(ob.get_name())\n",
    "ob.set_name(\"Rajini\",70)\n",
    "print(ob.get_name())\n",
    "\n",
    "vpc = getset(\"Sachin\",50)\n",
    "vpc.name = \"Tom\"\n",
    "vpc.age = 60\n",
    "print(vpc.name, vpc.age)\n"
   ]
  },
  {
   "cell_type": "code",
   "execution_count": 6,
   "id": "242ab952",
   "metadata": {},
   "outputs": [
    {
     "name": "stdout",
     "output_type": "stream",
     "text": [
      "setter method called\n",
      "getter method called\n",
      "100\n"
     ]
    }
   ],
   "source": [
    "# Python program showing a\n",
    "# use of property() function\n",
    "\n",
    "class Geeks:\n",
    "\tdef __init__(self):\n",
    "\t\tself._age = 0\n",
    "\t\n",
    "\t# function to get value of _age\n",
    "\tdef get_age(self):\n",
    "\t\tprint(\"getter method called\")\n",
    "\t\treturn self._age\n",
    "\t\n",
    "\t# function to set value of _age\n",
    "\tdef set_age(self, a):\n",
    "\t\tprint(\"setter method called\")\n",
    "\t\tself._age = a\n",
    "\n",
    "\t# function to delete _age attribute\n",
    "\tdef del_age(self):\n",
    "\t\tdel self._age\n",
    "\t\n",
    "\tage = property(get_age, set_age, del_age)\n",
    "\n",
    "mark = Geeks()\n",
    "\n",
    "mark.age = 100\n",
    "\n",
    "print(mark.age)\n"
   ]
  }
 ],
 "metadata": {
  "kernelspec": {
   "display_name": "Python 3 (ipykernel)",
   "language": "python",
   "name": "python3"
  },
  "language_info": {
   "codemirror_mode": {
    "name": "ipython",
    "version": 3
   },
   "file_extension": ".py",
   "mimetype": "text/x-python",
   "name": "python",
   "nbconvert_exporter": "python",
   "pygments_lexer": "ipython3",
   "version": "3.9.12"
  }
 },
 "nbformat": 4,
 "nbformat_minor": 5
}
