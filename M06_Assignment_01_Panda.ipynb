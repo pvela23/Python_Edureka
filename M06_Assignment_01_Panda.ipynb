{
 "cells": [
  {
   "cell_type": "markdown",
   "id": "ecaef2b6",
   "metadata": {},
   "source": [
    "1. Extract data from the given SalaryGender CSV file and store the data from each column in a separate NumPy array."
   ]
  },
  {
   "cell_type": "code",
   "execution_count": null,
   "id": "54197d3a",
   "metadata": {},
   "outputs": [],
   "source": [
    "import pandas as pd\n",
    "import numpy as np\n",
    "\n",
    "df = pd.read_csv('/Users/vels/Desktop/MyPy/00_Assignment/Datasets/SalaryGender.csv')\n",
    "#df.head()\n",
    "#df.info()\n",
    "\n",
    "salary = np.array(df[\"Salary\"])\n",
    "gender = np.array(df[\"Gender\"])\n",
    "age    = np.array(df[\"Age\"])\n",
    "PhD    = np.array(df[\"PhD\"])\n",
    "\n",
    "print(type(salary),type(gender),type(age),type(PhD))\n"
   ]
  },
  {
   "cell_type": "markdown",
   "id": "04d8ac13",
   "metadata": {},
   "source": [
    "2. Find: \n",
    "    1. The number of men with a Ph.D. \n",
    "    2. The number of women with a Ph.D."
   ]
  },
  {
   "cell_type": "code",
   "execution_count": 20,
   "id": "78e8728a",
   "metadata": {},
   "outputs": [
    {
     "name": "stdout",
     "output_type": "stream",
     "text": [
      "Men with Ph.D: 24\n",
      "Women with Ph.D: 15\n"
     ]
    }
   ],
   "source": [
    "PhDMen   = ((df[\"PhD\"]==1) & (df[\"Gender\"]==1)).sum()\n",
    "PhDWomen = ((df[\"PhD\"]==1) & (df[\"Gender\"]==0)).sum()\n",
    "\n",
    "print(\"Men with Ph.D:\",PhDMen)\n",
    "print(\"Women with Ph.D:\",PhDWomen)"
   ]
  },
  {
   "cell_type": "code",
   "execution_count": 8,
   "id": "594a33d0",
   "metadata": {},
   "outputs": [
    {
     "name": "stdout",
     "output_type": "stream",
     "text": [
      "\n",
      "The number of men with PhD is: 24\n",
      "\n",
      "The number of women with PhD is: 15\n"
     ]
    }
   ],
   "source": [
    "gen_1 = np.where(df[\"Gender\"]==1)     # number of men\n",
    "gen_0 = np.where(df[\"Gender\"]==0)     # number of women\n",
    "PhD_1 = np.where(df[\"PhD\"]==1)\n",
    "\n",
    "arr_1 = np.isin(gen_1,PhD_1)\n",
    "men_PhD = np.count_nonzero(arr_1)\n",
    "print(\"\\nThe number of men with PhD is:\", str(men_PhD))\n",
    "\n",
    "arr_0 = np.isin(gen_0,PhD_1)\n",
    "women_PhD = np.count_nonzero(arr_0)\n",
    "print(\"\\nThe number of women with PhD is:\", str(women_PhD))"
   ]
  },
  {
   "cell_type": "markdown",
   "id": "45cd3077",
   "metadata": {},
   "source": [
    "3. Store the \"Age\" and \"Ph.D.\" columns in one DataFrame and delete the data of all people who don't have a Ph.D. from the SalaryGender CSV file."
   ]
  },
  {
   "cell_type": "code",
   "execution_count": 6,
   "id": "7406c338",
   "metadata": {},
   "outputs": [
    {
     "name": "stdout",
     "output_type": "stream",
     "text": [
      "    Salary  Gender  Age  PhD\n",
      "0    140.0       1   47    1\n",
      "1     30.0       0   65    1\n",
      "4     80.0       0   53    1\n",
      "8    125.0       1   44    1\n",
      "9     51.0       1   63    1\n",
      "12   150.0       1   60    1\n",
      "17    84.0       0   47    1\n",
      "18   190.0       1   66    1\n",
      "19    74.0       1   45    1\n",
      "25    15.2       1   66    1\n",
      "26    28.6       1   36    1\n",
      "28    72.0       0   51    1\n",
      "29    81.0       1   65    1\n",
      "30   100.0       0   45    1\n",
      "31    90.0       0   52    1\n",
      "32    90.0       0   54    1\n",
      "38    63.0       1   34    1\n",
      "41    92.0       0   58    1\n",
      "42   106.0       1   77    1\n",
      "45    32.0       0   48    1\n",
      "47    55.0       1   49    1\n",
      "49    28.0       0   65    1\n",
      "54    84.0       0   49    1\n",
      "56   160.0       1   61    1\n",
      "57    65.0       0   43    1\n",
      "60   102.0       1   66    1\n",
      "63    55.0       1   56    1\n",
      "73   152.0       1   71    1\n",
      "76    30.0       1   69    1\n",
      "77   120.0       1   58    1\n",
      "79    36.0       1   32    1\n",
      "80    96.0       1   33    1\n",
      "81    38.0       0   32    1\n",
      "87    72.0       1   42    1\n",
      "89    41.0       0   51    1\n",
      "90    89.0       1   71    1\n",
      "92    52.0       1   55    1\n",
      "94    66.0       0   55    1\n",
      "96   152.0       1   56    1\n"
     ]
    }
   ],
   "source": [
    "import numpy as np\n",
    "import pandas as pd\n",
    "\n",
    "df = pd.read_csv('/Users/vels/Desktop/MyPy/00_Assignment/Datasets/SalaryGender.csv')\n",
    "\n",
    "age = df['Age'].values\n",
    "phD = df['PhD'].values\n",
    "\n",
    "# Storing Age and PhD columns in a Dataframe\n",
    "age = pd.DataFrame(age)\n",
    "phD = pd.DataFrame(phD)\n",
    "\n",
    "# Deleting the data of all people who don’t have a PhD\n",
    "df= df[df['PhD'] != 0]\n",
    "print(df.head(100))"
   ]
  },
  {
   "cell_type": "markdown",
   "id": "569c51ab",
   "metadata": {},
   "source": [
    "4. Calculate the total number of people who have a Ph.D. degree from the SalaryGender CSV file."
   ]
  },
  {
   "cell_type": "code",
   "execution_count": 11,
   "id": "f6bc2295",
   "metadata": {},
   "outputs": [
    {
     "name": "stdout",
     "output_type": "stream",
     "text": [
      "Total # of people with Ph.D: 39\n"
     ]
    }
   ],
   "source": [
    "TotalPhD   = ((df[\"PhD\"]==1)).count()\n",
    "\n",
    "print(\"Total # of people with Ph.D:\", TotalPhD)"
   ]
  }
 ],
 "metadata": {
  "kernelspec": {
   "display_name": "Python 3 (ipykernel)",
   "language": "python",
   "name": "python3"
  },
  "language_info": {
   "codemirror_mode": {
    "name": "ipython",
    "version": 3
   },
   "file_extension": ".py",
   "mimetype": "text/x-python",
   "name": "python",
   "nbconvert_exporter": "python",
   "pygments_lexer": "ipython3",
   "version": "3.9.12"
  }
 },
 "nbformat": 4,
 "nbformat_minor": 5
}
